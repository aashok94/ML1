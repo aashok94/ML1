{
 "cells": [
  {
   "cell_type": "code",
   "execution_count": 1,
   "metadata": {},
   "outputs": [
    {
     "data": {
      "text/html": [
       "\n",
       "    <div class=\"bk-root\">\n",
       "        <a href=\"https://bokeh.pydata.org\" target=\"_blank\" class=\"bk-logo bk-logo-small bk-logo-notebook\"></a>\n",
       "        <span id=\"1001\">Loading BokehJS ...</span>\n",
       "    </div>"
      ]
     },
     "metadata": {},
     "output_type": "display_data"
    },
    {
     "data": {
      "application/javascript": [
       "\n",
       "(function(root) {\n",
       "  function now() {\n",
       "    return new Date();\n",
       "  }\n",
       "\n",
       "  var force = true;\n",
       "\n",
       "  if (typeof (root._bokeh_onload_callbacks) === \"undefined\" || force === true) {\n",
       "    root._bokeh_onload_callbacks = [];\n",
       "    root._bokeh_is_loading = undefined;\n",
       "  }\n",
       "\n",
       "  var JS_MIME_TYPE = 'application/javascript';\n",
       "  var HTML_MIME_TYPE = 'text/html';\n",
       "  var EXEC_MIME_TYPE = 'application/vnd.bokehjs_exec.v0+json';\n",
       "  var CLASS_NAME = 'output_bokeh rendered_html';\n",
       "\n",
       "  /**\n",
       "   * Render data to the DOM node\n",
       "   */\n",
       "  function render(props, node) {\n",
       "    var script = document.createElement(\"script\");\n",
       "    node.appendChild(script);\n",
       "  }\n",
       "\n",
       "  /**\n",
       "   * Handle when an output is cleared or removed\n",
       "   */\n",
       "  function handleClearOutput(event, handle) {\n",
       "    var cell = handle.cell;\n",
       "\n",
       "    var id = cell.output_area._bokeh_element_id;\n",
       "    var server_id = cell.output_area._bokeh_server_id;\n",
       "    // Clean up Bokeh references\n",
       "    if (id != null && id in Bokeh.index) {\n",
       "      Bokeh.index[id].model.document.clear();\n",
       "      delete Bokeh.index[id];\n",
       "    }\n",
       "\n",
       "    if (server_id !== undefined) {\n",
       "      // Clean up Bokeh references\n",
       "      var cmd = \"from bokeh.io.state import curstate; print(curstate().uuid_to_server['\" + server_id + \"'].get_sessions()[0].document.roots[0]._id)\";\n",
       "      cell.notebook.kernel.execute(cmd, {\n",
       "        iopub: {\n",
       "          output: function(msg) {\n",
       "            var id = msg.content.text.trim();\n",
       "            if (id in Bokeh.index) {\n",
       "              Bokeh.index[id].model.document.clear();\n",
       "              delete Bokeh.index[id];\n",
       "            }\n",
       "          }\n",
       "        }\n",
       "      });\n",
       "      // Destroy server and session\n",
       "      var cmd = \"import bokeh.io.notebook as ion; ion.destroy_server('\" + server_id + \"')\";\n",
       "      cell.notebook.kernel.execute(cmd);\n",
       "    }\n",
       "  }\n",
       "\n",
       "  /**\n",
       "   * Handle when a new output is added\n",
       "   */\n",
       "  function handleAddOutput(event, handle) {\n",
       "    var output_area = handle.output_area;\n",
       "    var output = handle.output;\n",
       "\n",
       "    // limit handleAddOutput to display_data with EXEC_MIME_TYPE content only\n",
       "    if ((output.output_type != \"display_data\") || (!output.data.hasOwnProperty(EXEC_MIME_TYPE))) {\n",
       "      return\n",
       "    }\n",
       "\n",
       "    var toinsert = output_area.element.find(\".\" + CLASS_NAME.split(' ')[0]);\n",
       "\n",
       "    if (output.metadata[EXEC_MIME_TYPE][\"id\"] !== undefined) {\n",
       "      toinsert[toinsert.length - 1].firstChild.textContent = output.data[JS_MIME_TYPE];\n",
       "      // store reference to embed id on output_area\n",
       "      output_area._bokeh_element_id = output.metadata[EXEC_MIME_TYPE][\"id\"];\n",
       "    }\n",
       "    if (output.metadata[EXEC_MIME_TYPE][\"server_id\"] !== undefined) {\n",
       "      var bk_div = document.createElement(\"div\");\n",
       "      bk_div.innerHTML = output.data[HTML_MIME_TYPE];\n",
       "      var script_attrs = bk_div.children[0].attributes;\n",
       "      for (var i = 0; i < script_attrs.length; i++) {\n",
       "        toinsert[toinsert.length - 1].firstChild.setAttribute(script_attrs[i].name, script_attrs[i].value);\n",
       "      }\n",
       "      // store reference to server id on output_area\n",
       "      output_area._bokeh_server_id = output.metadata[EXEC_MIME_TYPE][\"server_id\"];\n",
       "    }\n",
       "  }\n",
       "\n",
       "  function register_renderer(events, OutputArea) {\n",
       "\n",
       "    function append_mime(data, metadata, element) {\n",
       "      // create a DOM node to render to\n",
       "      var toinsert = this.create_output_subarea(\n",
       "        metadata,\n",
       "        CLASS_NAME,\n",
       "        EXEC_MIME_TYPE\n",
       "      );\n",
       "      this.keyboard_manager.register_events(toinsert);\n",
       "      // Render to node\n",
       "      var props = {data: data, metadata: metadata[EXEC_MIME_TYPE]};\n",
       "      render(props, toinsert[toinsert.length - 1]);\n",
       "      element.append(toinsert);\n",
       "      return toinsert\n",
       "    }\n",
       "\n",
       "    /* Handle when an output is cleared or removed */\n",
       "    events.on('clear_output.CodeCell', handleClearOutput);\n",
       "    events.on('delete.Cell', handleClearOutput);\n",
       "\n",
       "    /* Handle when a new output is added */\n",
       "    events.on('output_added.OutputArea', handleAddOutput);\n",
       "\n",
       "    /**\n",
       "     * Register the mime type and append_mime function with output_area\n",
       "     */\n",
       "    OutputArea.prototype.register_mime_type(EXEC_MIME_TYPE, append_mime, {\n",
       "      /* Is output safe? */\n",
       "      safe: true,\n",
       "      /* Index of renderer in `output_area.display_order` */\n",
       "      index: 0\n",
       "    });\n",
       "  }\n",
       "\n",
       "  // register the mime type if in Jupyter Notebook environment and previously unregistered\n",
       "  if (root.Jupyter !== undefined) {\n",
       "    var events = require('base/js/events');\n",
       "    var OutputArea = require('notebook/js/outputarea').OutputArea;\n",
       "\n",
       "    if (OutputArea.prototype.mime_types().indexOf(EXEC_MIME_TYPE) == -1) {\n",
       "      register_renderer(events, OutputArea);\n",
       "    }\n",
       "  }\n",
       "\n",
       "  \n",
       "  if (typeof (root._bokeh_timeout) === \"undefined\" || force === true) {\n",
       "    root._bokeh_timeout = Date.now() + 5000;\n",
       "    root._bokeh_failed_load = false;\n",
       "  }\n",
       "\n",
       "  var NB_LOAD_WARNING = {'data': {'text/html':\n",
       "     \"<div style='background-color: #fdd'>\\n\"+\n",
       "     \"<p>\\n\"+\n",
       "     \"BokehJS does not appear to have successfully loaded. If loading BokehJS from CDN, this \\n\"+\n",
       "     \"may be due to a slow or bad network connection. Possible fixes:\\n\"+\n",
       "     \"</p>\\n\"+\n",
       "     \"<ul>\\n\"+\n",
       "     \"<li>re-rerun `output_notebook()` to attempt to load from CDN again, or</li>\\n\"+\n",
       "     \"<li>use INLINE resources instead, as so:</li>\\n\"+\n",
       "     \"</ul>\\n\"+\n",
       "     \"<code>\\n\"+\n",
       "     \"from bokeh.resources import INLINE\\n\"+\n",
       "     \"output_notebook(resources=INLINE)\\n\"+\n",
       "     \"</code>\\n\"+\n",
       "     \"</div>\"}};\n",
       "\n",
       "  function display_loaded() {\n",
       "    var el = document.getElementById(\"1001\");\n",
       "    if (el != null) {\n",
       "      el.textContent = \"BokehJS is loading...\";\n",
       "    }\n",
       "    if (root.Bokeh !== undefined) {\n",
       "      if (el != null) {\n",
       "        el.textContent = \"BokehJS \" + root.Bokeh.version + \" successfully loaded.\";\n",
       "      }\n",
       "    } else if (Date.now() < root._bokeh_timeout) {\n",
       "      setTimeout(display_loaded, 100)\n",
       "    }\n",
       "  }\n",
       "\n",
       "\n",
       "  function run_callbacks() {\n",
       "    try {\n",
       "      root._bokeh_onload_callbacks.forEach(function(callback) { callback() });\n",
       "    }\n",
       "    finally {\n",
       "      delete root._bokeh_onload_callbacks\n",
       "    }\n",
       "    console.info(\"Bokeh: all callbacks have finished\");\n",
       "  }\n",
       "\n",
       "  function load_libs(js_urls, callback) {\n",
       "    root._bokeh_onload_callbacks.push(callback);\n",
       "    if (root._bokeh_is_loading > 0) {\n",
       "      console.log(\"Bokeh: BokehJS is being loaded, scheduling callback at\", now());\n",
       "      return null;\n",
       "    }\n",
       "    if (js_urls == null || js_urls.length === 0) {\n",
       "      run_callbacks();\n",
       "      return null;\n",
       "    }\n",
       "    console.log(\"Bokeh: BokehJS not loaded, scheduling load and callback at\", now());\n",
       "    root._bokeh_is_loading = js_urls.length;\n",
       "    for (var i = 0; i < js_urls.length; i++) {\n",
       "      var url = js_urls[i];\n",
       "      var s = document.createElement('script');\n",
       "      s.src = url;\n",
       "      s.async = false;\n",
       "      s.onreadystatechange = s.onload = function() {\n",
       "        root._bokeh_is_loading--;\n",
       "        if (root._bokeh_is_loading === 0) {\n",
       "          console.log(\"Bokeh: all BokehJS libraries loaded\");\n",
       "          run_callbacks()\n",
       "        }\n",
       "      };\n",
       "      s.onerror = function() {\n",
       "        console.warn(\"failed to load library \" + url);\n",
       "      };\n",
       "      console.log(\"Bokeh: injecting script tag for BokehJS library: \", url);\n",
       "      document.getElementsByTagName(\"head\")[0].appendChild(s);\n",
       "    }\n",
       "  };var element = document.getElementById(\"1001\");\n",
       "  if (element == null) {\n",
       "    console.log(\"Bokeh: ERROR: autoload.js configured with elementid '1001' but no matching script tag was found. \")\n",
       "    return false;\n",
       "  }\n",
       "\n",
       "  var js_urls = [\"https://cdn.pydata.org/bokeh/release/bokeh-1.0.1.min.js\", \"https://cdn.pydata.org/bokeh/release/bokeh-widgets-1.0.1.min.js\", \"https://cdn.pydata.org/bokeh/release/bokeh-tables-1.0.1.min.js\", \"https://cdn.pydata.org/bokeh/release/bokeh-gl-1.0.1.min.js\"];\n",
       "\n",
       "  var inline_js = [\n",
       "    function(Bokeh) {\n",
       "      Bokeh.set_log_level(\"info\");\n",
       "    },\n",
       "    \n",
       "    function(Bokeh) {\n",
       "      \n",
       "    },\n",
       "    function(Bokeh) {\n",
       "      console.log(\"Bokeh: injecting CSS: https://cdn.pydata.org/bokeh/release/bokeh-1.0.1.min.css\");\n",
       "      Bokeh.embed.inject_css(\"https://cdn.pydata.org/bokeh/release/bokeh-1.0.1.min.css\");\n",
       "      console.log(\"Bokeh: injecting CSS: https://cdn.pydata.org/bokeh/release/bokeh-widgets-1.0.1.min.css\");\n",
       "      Bokeh.embed.inject_css(\"https://cdn.pydata.org/bokeh/release/bokeh-widgets-1.0.1.min.css\");\n",
       "      console.log(\"Bokeh: injecting CSS: https://cdn.pydata.org/bokeh/release/bokeh-tables-1.0.1.min.css\");\n",
       "      Bokeh.embed.inject_css(\"https://cdn.pydata.org/bokeh/release/bokeh-tables-1.0.1.min.css\");\n",
       "    }\n",
       "  ];\n",
       "\n",
       "  function run_inline_js() {\n",
       "    \n",
       "    if ((root.Bokeh !== undefined) || (force === true)) {\n",
       "      for (var i = 0; i < inline_js.length; i++) {\n",
       "        inline_js[i].call(root, root.Bokeh);\n",
       "      }if (force === true) {\n",
       "        display_loaded();\n",
       "      }} else if (Date.now() < root._bokeh_timeout) {\n",
       "      setTimeout(run_inline_js, 100);\n",
       "    } else if (!root._bokeh_failed_load) {\n",
       "      console.log(\"Bokeh: BokehJS failed to load within specified timeout.\");\n",
       "      root._bokeh_failed_load = true;\n",
       "    } else if (force !== true) {\n",
       "      var cell = $(document.getElementById(\"1001\")).parents('.cell').data().cell;\n",
       "      cell.output_area.append_execute_result(NB_LOAD_WARNING)\n",
       "    }\n",
       "\n",
       "  }\n",
       "\n",
       "  if (root._bokeh_is_loading === 0) {\n",
       "    console.log(\"Bokeh: BokehJS loaded, going straight to plotting\");\n",
       "    run_inline_js();\n",
       "  } else {\n",
       "    load_libs(js_urls, function() {\n",
       "      console.log(\"Bokeh: BokehJS plotting callback run at\", now());\n",
       "      run_inline_js();\n",
       "    });\n",
       "  }\n",
       "}(window));"
      ],
      "application/vnd.bokehjs_load.v0+json": "\n(function(root) {\n  function now() {\n    return new Date();\n  }\n\n  var force = true;\n\n  if (typeof (root._bokeh_onload_callbacks) === \"undefined\" || force === true) {\n    root._bokeh_onload_callbacks = [];\n    root._bokeh_is_loading = undefined;\n  }\n\n  \n\n  \n  if (typeof (root._bokeh_timeout) === \"undefined\" || force === true) {\n    root._bokeh_timeout = Date.now() + 5000;\n    root._bokeh_failed_load = false;\n  }\n\n  var NB_LOAD_WARNING = {'data': {'text/html':\n     \"<div style='background-color: #fdd'>\\n\"+\n     \"<p>\\n\"+\n     \"BokehJS does not appear to have successfully loaded. If loading BokehJS from CDN, this \\n\"+\n     \"may be due to a slow or bad network connection. Possible fixes:\\n\"+\n     \"</p>\\n\"+\n     \"<ul>\\n\"+\n     \"<li>re-rerun `output_notebook()` to attempt to load from CDN again, or</li>\\n\"+\n     \"<li>use INLINE resources instead, as so:</li>\\n\"+\n     \"</ul>\\n\"+\n     \"<code>\\n\"+\n     \"from bokeh.resources import INLINE\\n\"+\n     \"output_notebook(resources=INLINE)\\n\"+\n     \"</code>\\n\"+\n     \"</div>\"}};\n\n  function display_loaded() {\n    var el = document.getElementById(\"1001\");\n    if (el != null) {\n      el.textContent = \"BokehJS is loading...\";\n    }\n    if (root.Bokeh !== undefined) {\n      if (el != null) {\n        el.textContent = \"BokehJS \" + root.Bokeh.version + \" successfully loaded.\";\n      }\n    } else if (Date.now() < root._bokeh_timeout) {\n      setTimeout(display_loaded, 100)\n    }\n  }\n\n\n  function run_callbacks() {\n    try {\n      root._bokeh_onload_callbacks.forEach(function(callback) { callback() });\n    }\n    finally {\n      delete root._bokeh_onload_callbacks\n    }\n    console.info(\"Bokeh: all callbacks have finished\");\n  }\n\n  function load_libs(js_urls, callback) {\n    root._bokeh_onload_callbacks.push(callback);\n    if (root._bokeh_is_loading > 0) {\n      console.log(\"Bokeh: BokehJS is being loaded, scheduling callback at\", now());\n      return null;\n    }\n    if (js_urls == null || js_urls.length === 0) {\n      run_callbacks();\n      return null;\n    }\n    console.log(\"Bokeh: BokehJS not loaded, scheduling load and callback at\", now());\n    root._bokeh_is_loading = js_urls.length;\n    for (var i = 0; i < js_urls.length; i++) {\n      var url = js_urls[i];\n      var s = document.createElement('script');\n      s.src = url;\n      s.async = false;\n      s.onreadystatechange = s.onload = function() {\n        root._bokeh_is_loading--;\n        if (root._bokeh_is_loading === 0) {\n          console.log(\"Bokeh: all BokehJS libraries loaded\");\n          run_callbacks()\n        }\n      };\n      s.onerror = function() {\n        console.warn(\"failed to load library \" + url);\n      };\n      console.log(\"Bokeh: injecting script tag for BokehJS library: \", url);\n      document.getElementsByTagName(\"head\")[0].appendChild(s);\n    }\n  };var element = document.getElementById(\"1001\");\n  if (element == null) {\n    console.log(\"Bokeh: ERROR: autoload.js configured with elementid '1001' but no matching script tag was found. \")\n    return false;\n  }\n\n  var js_urls = [\"https://cdn.pydata.org/bokeh/release/bokeh-1.0.1.min.js\", \"https://cdn.pydata.org/bokeh/release/bokeh-widgets-1.0.1.min.js\", \"https://cdn.pydata.org/bokeh/release/bokeh-tables-1.0.1.min.js\", \"https://cdn.pydata.org/bokeh/release/bokeh-gl-1.0.1.min.js\"];\n\n  var inline_js = [\n    function(Bokeh) {\n      Bokeh.set_log_level(\"info\");\n    },\n    \n    function(Bokeh) {\n      \n    },\n    function(Bokeh) {\n      console.log(\"Bokeh: injecting CSS: https://cdn.pydata.org/bokeh/release/bokeh-1.0.1.min.css\");\n      Bokeh.embed.inject_css(\"https://cdn.pydata.org/bokeh/release/bokeh-1.0.1.min.css\");\n      console.log(\"Bokeh: injecting CSS: https://cdn.pydata.org/bokeh/release/bokeh-widgets-1.0.1.min.css\");\n      Bokeh.embed.inject_css(\"https://cdn.pydata.org/bokeh/release/bokeh-widgets-1.0.1.min.css\");\n      console.log(\"Bokeh: injecting CSS: https://cdn.pydata.org/bokeh/release/bokeh-tables-1.0.1.min.css\");\n      Bokeh.embed.inject_css(\"https://cdn.pydata.org/bokeh/release/bokeh-tables-1.0.1.min.css\");\n    }\n  ];\n\n  function run_inline_js() {\n    \n    if ((root.Bokeh !== undefined) || (force === true)) {\n      for (var i = 0; i < inline_js.length; i++) {\n        inline_js[i].call(root, root.Bokeh);\n      }if (force === true) {\n        display_loaded();\n      }} else if (Date.now() < root._bokeh_timeout) {\n      setTimeout(run_inline_js, 100);\n    } else if (!root._bokeh_failed_load) {\n      console.log(\"Bokeh: BokehJS failed to load within specified timeout.\");\n      root._bokeh_failed_load = true;\n    } else if (force !== true) {\n      var cell = $(document.getElementById(\"1001\")).parents('.cell').data().cell;\n      cell.output_area.append_execute_result(NB_LOAD_WARNING)\n    }\n\n  }\n\n  if (root._bokeh_is_loading === 0) {\n    console.log(\"Bokeh: BokehJS loaded, going straight to plotting\");\n    run_inline_js();\n  } else {\n    load_libs(js_urls, function() {\n      console.log(\"Bokeh: BokehJS plotting callback run at\", now());\n      run_inline_js();\n    });\n  }\n}(window));"
     },
     "metadata": {},
     "output_type": "display_data"
    }
   ],
   "source": [
    "import pandas as pd\n",
    "import numpy as np\n",
    "import matplotlib.pyplot as plt\n",
    "import math\n",
    "import random\n",
    "\n",
    "from bokeh.plotting import figure\n",
    "from bokeh.io import output_notebook, push_notebook, show\n",
    "\n",
    "output_notebook()\n"
   ]
  },
  {
   "cell_type": "code",
   "execution_count": 2,
   "metadata": {},
   "outputs": [
    {
     "data": {
      "text/plain": [
       "Index(['index', 'height', 'weight', 'gender'], dtype='object')"
      ]
     },
     "execution_count": 2,
     "metadata": {},
     "output_type": "execute_result"
    }
   ],
   "source": [
    "df = pd.read_csv('DWH_Training.csv',header=-1)\n",
    "df.columns=['index','height','weight','gender']\n",
    "df.columns"
   ]
  },
  {
   "cell_type": "code",
   "execution_count": 3,
   "metadata": {},
   "outputs": [
    {
     "data": {
      "text/html": [
       "<div>\n",
       "<style scoped>\n",
       "    .dataframe tbody tr th:only-of-type {\n",
       "        vertical-align: middle;\n",
       "    }\n",
       "\n",
       "    .dataframe tbody tr th {\n",
       "        vertical-align: top;\n",
       "    }\n",
       "\n",
       "    .dataframe thead th {\n",
       "        text-align: right;\n",
       "    }\n",
       "</style>\n",
       "<table border=\"1\" class=\"dataframe\">\n",
       "  <thead>\n",
       "    <tr style=\"text-align: right;\">\n",
       "      <th></th>\n",
       "      <th>index</th>\n",
       "      <th>height</th>\n",
       "      <th>weight</th>\n",
       "      <th>gender</th>\n",
       "    </tr>\n",
       "  </thead>\n",
       "  <tbody>\n",
       "    <tr>\n",
       "      <th>0</th>\n",
       "      <td>1</td>\n",
       "      <td>173.685185</td>\n",
       "      <td>69.158060</td>\n",
       "      <td>-1</td>\n",
       "    </tr>\n",
       "    <tr>\n",
       "      <th>1</th>\n",
       "      <td>2</td>\n",
       "      <td>168.295454</td>\n",
       "      <td>55.384885</td>\n",
       "      <td>1</td>\n",
       "    </tr>\n",
       "    <tr>\n",
       "      <th>2</th>\n",
       "      <td>3</td>\n",
       "      <td>170.213057</td>\n",
       "      <td>63.701701</td>\n",
       "      <td>1</td>\n",
       "    </tr>\n",
       "    <tr>\n",
       "      <th>3</th>\n",
       "      <td>4</td>\n",
       "      <td>168.673799</td>\n",
       "      <td>52.104581</td>\n",
       "      <td>1</td>\n",
       "    </tr>\n",
       "    <tr>\n",
       "      <th>4</th>\n",
       "      <td>5</td>\n",
       "      <td>174.530740</td>\n",
       "      <td>70.698139</td>\n",
       "      <td>-1</td>\n",
       "    </tr>\n",
       "  </tbody>\n",
       "</table>\n",
       "</div>"
      ],
      "text/plain": [
       "   index      height     weight  gender\n",
       "0      1  173.685185  69.158060      -1\n",
       "1      2  168.295454  55.384885       1\n",
       "2      3  170.213057  63.701701       1\n",
       "3      4  168.673799  52.104581       1\n",
       "4      5  174.530740  70.698139      -1"
      ]
     },
     "execution_count": 3,
     "metadata": {},
     "output_type": "execute_result"
    }
   ],
   "source": [
    "df.head()"
   ]
  },
  {
   "cell_type": "markdown",
   "metadata": {},
   "source": [
    "(a)  Make a scatter plot where the x-axis is the height of the citizens and the y-axis is the weight ofthe citizens.  The color of the points need to be different for males and females"
   ]
  },
  {
   "cell_type": "code",
   "execution_count": 4,
   "metadata": {},
   "outputs": [
    {
     "data": {
      "text/html": [
       "\n",
       "\n",
       "\n",
       "\n",
       "\n",
       "\n",
       "  <div class=\"bk-root\" id=\"ca67cace-76fd-4ec4-b9ac-3f04a527752c\"></div>\n"
      ]
     },
     "metadata": {},
     "output_type": "display_data"
    },
    {
     "data": {
      "application/javascript": [
       "(function(root) {\n",
       "  function embed_document(root) {\n",
       "    \n",
       "  var docs_json = {\"3e02c770-6d0e-4bd6-b5bf-35cb22c735a7\":{\"roots\":{\"references\":[{\"attributes\":{\"below\":[{\"id\":\"1013\",\"type\":\"LinearAxis\"}],\"left\":[{\"id\":\"1018\",\"type\":\"LinearAxis\"}],\"renderers\":[{\"id\":\"1013\",\"type\":\"LinearAxis\"},{\"id\":\"1017\",\"type\":\"Grid\"},{\"id\":\"1018\",\"type\":\"LinearAxis\"},{\"id\":\"1022\",\"type\":\"Grid\"},{\"id\":\"1031\",\"type\":\"BoxAnnotation\"},{\"id\":\"1049\",\"type\":\"Legend\"},{\"id\":\"1041\",\"type\":\"GlyphRenderer\"},{\"id\":\"1054\",\"type\":\"GlyphRenderer\"}],\"title\":{\"id\":\"1002\",\"type\":\"Title\"},\"toolbar\":{\"id\":\"1029\",\"type\":\"Toolbar\"},\"x_range\":{\"id\":\"1005\",\"type\":\"DataRange1d\"},\"x_scale\":{\"id\":\"1009\",\"type\":\"LinearScale\"},\"y_range\":{\"id\":\"1007\",\"type\":\"DataRange1d\"},\"y_scale\":{\"id\":\"1011\",\"type\":\"LinearScale\"}},\"id\":\"1003\",\"subtype\":\"Figure\",\"type\":\"Plot\"},{\"attributes\":{},\"id\":\"1011\",\"type\":\"LinearScale\"},{\"attributes\":{\"fill_alpha\":{\"value\":0.1},\"fill_color\":{\"value\":\"#1f77b4\"},\"line_alpha\":{\"value\":0.1},\"line_color\":{\"value\":\"#1f77b4\"},\"size\":{\"units\":\"screen\",\"value\":5},\"x\":{\"field\":\"x\"},\"y\":{\"field\":\"y\"}},\"id\":\"1053\",\"type\":\"Circle\"},{\"attributes\":{\"axis_label\":\"Height (cm)\",\"formatter\":{\"id\":\"1046\",\"type\":\"BasicTickFormatter\"},\"plot\":{\"id\":\"1003\",\"subtype\":\"Figure\",\"type\":\"Plot\"},\"ticker\":{\"id\":\"1014\",\"type\":\"BasicTicker\"}},\"id\":\"1013\",\"type\":\"LinearAxis\"},{\"attributes\":{\"source\":{\"id\":\"1038\",\"type\":\"ColumnDataSource\"}},\"id\":\"1042\",\"type\":\"CDSView\"},{\"attributes\":{},\"id\":\"1014\",\"type\":\"BasicTicker\"},{\"attributes\":{},\"id\":\"1044\",\"type\":\"BasicTickFormatter\"},{\"attributes\":{\"data_source\":{\"id\":\"1038\",\"type\":\"ColumnDataSource\"},\"glyph\":{\"id\":\"1039\",\"type\":\"Circle\"},\"hover_glyph\":null,\"muted_glyph\":null,\"nonselection_glyph\":{\"id\":\"1040\",\"type\":\"Circle\"},\"selection_glyph\":null,\"view\":{\"id\":\"1042\",\"type\":\"CDSView\"}},\"id\":\"1041\",\"type\":\"GlyphRenderer\"},{\"attributes\":{},\"id\":\"1046\",\"type\":\"BasicTickFormatter\"},{\"attributes\":{\"plot\":{\"id\":\"1003\",\"subtype\":\"Figure\",\"type\":\"Plot\"},\"ticker\":{\"id\":\"1014\",\"type\":\"BasicTicker\"}},\"id\":\"1017\",\"type\":\"Grid\"},{\"attributes\":{\"items\":[{\"id\":\"1050\",\"type\":\"LegendItem\"},{\"id\":\"1064\",\"type\":\"LegendItem\"}],\"plot\":{\"id\":\"1003\",\"subtype\":\"Figure\",\"type\":\"Plot\"}},\"id\":\"1049\",\"type\":\"Legend\"},{\"attributes\":{\"axis_label\":\"Weight (kg)\",\"formatter\":{\"id\":\"1044\",\"type\":\"BasicTickFormatter\"},\"plot\":{\"id\":\"1003\",\"subtype\":\"Figure\",\"type\":\"Plot\"},\"ticker\":{\"id\":\"1019\",\"type\":\"BasicTicker\"}},\"id\":\"1018\",\"type\":\"LinearAxis\"},{\"attributes\":{\"label\":{\"value\":\"Male\"},\"renderers\":[{\"id\":\"1041\",\"type\":\"GlyphRenderer\"}]},\"id\":\"1050\",\"type\":\"LegendItem\"},{\"attributes\":{},\"id\":\"1019\",\"type\":\"BasicTicker\"},{\"attributes\":{\"dimension\":1,\"plot\":{\"id\":\"1003\",\"subtype\":\"Figure\",\"type\":\"Plot\"},\"ticker\":{\"id\":\"1019\",\"type\":\"BasicTicker\"}},\"id\":\"1022\",\"type\":\"Grid\"},{\"attributes\":{\"fill_color\":{\"value\":\"yellow\"},\"line_color\":{\"value\":\"yellow\"},\"size\":{\"units\":\"screen\",\"value\":5},\"x\":{\"field\":\"x\"},\"y\":{\"field\":\"y\"}},\"id\":\"1039\",\"type\":\"Circle\"},{\"attributes\":{\"active_drag\":\"auto\",\"active_inspect\":\"auto\",\"active_multi\":null,\"active_scroll\":\"auto\",\"active_tap\":\"auto\",\"tools\":[{\"id\":\"1023\",\"type\":\"PanTool\"},{\"id\":\"1024\",\"type\":\"WheelZoomTool\"},{\"id\":\"1025\",\"type\":\"BoxZoomTool\"},{\"id\":\"1026\",\"type\":\"SaveTool\"},{\"id\":\"1027\",\"type\":\"ResetTool\"},{\"id\":\"1028\",\"type\":\"HelpTool\"}]},\"id\":\"1029\",\"type\":\"Toolbar\"},{\"attributes\":{\"data_source\":{\"id\":\"1051\",\"type\":\"ColumnDataSource\"},\"glyph\":{\"id\":\"1052\",\"type\":\"Circle\"},\"hover_glyph\":null,\"muted_glyph\":null,\"nonselection_glyph\":{\"id\":\"1053\",\"type\":\"Circle\"},\"selection_glyph\":null,\"view\":{\"id\":\"1055\",\"type\":\"CDSView\"}},\"id\":\"1054\",\"type\":\"GlyphRenderer\"},{\"attributes\":{\"fill_alpha\":{\"value\":0.1},\"fill_color\":{\"value\":\"#1f77b4\"},\"line_alpha\":{\"value\":0.1},\"line_color\":{\"value\":\"#1f77b4\"},\"size\":{\"units\":\"screen\",\"value\":5},\"x\":{\"field\":\"x\"},\"y\":{\"field\":\"y\"}},\"id\":\"1040\",\"type\":\"Circle\"},{\"attributes\":{\"callback\":null,\"data\":{\"x\":{\"__ndarray__\":\"SioWCu21ZUAIoO3S+9BlQL4NXTyf1WVA9Kh8JMxsZUCPLaNhJjRmQPDdhvVOsGVA6CLhcQCZZUDtrdKF9KBlQD9DDN2k32VAto0otfUNZkCjc7uIY5dlQJhSXUbwy2VAWATh+ETqZEDlmol/559lQGXgAQFz9mVAxThYYGyPZUA5y+STaOplQAtJSfM8zmVAbBWazBfgZUBzKyQEOKxlQCY/NnC+nGVAp/B+5dFrZUAM7vTkp8VlQGQk2h3CjmVAsCJvizACZkCn+bcW7gZmQMTwDe8ItWVAWrNhaLx7ZUBnl4PTiZJlQEcheGjQZGVA8ZoyW8asZUBnk1cSW4dlQNzqYi8XJmZAx3gKfehcZUAKTPDjKAFmQJn0xxzRX2VABmqrgJKqZUDI3m3lYwdmQCwpYV7wz2VAY9q2Bz/YZUApFGFtCyRlQGVqCQo3rmVAezy4IYbQZUDVLHAgn8VlQBMVHWVQqGVA8pPG2UvkZUBPgFviVMJlQCzZjeNc/GVAvSm+gxaDZUDpgoGNdo9lQC9oTlDClWVACQCzCFYJZkDWdBCV4rRlQKskEdJUrGVAEdq5xDhzZUAgzXp6mRNmQKXNTqRhn2VAOMRLpPLjZUDzuB2SX55lQPe1eXgmfWVAiHss78S7ZUAU0mCYa4NlQJ1Zrry8qGVA/1iV/1iQZUCdhLfnCZFlQLIBhqxCmmVAmRfg8q/AZUCkTBj88ONlQN93SUc/5WVAPk4h9jvSZUD3X2l1FYNlQFQEa6EQuGVA9k0xeZT5ZUB29405t95lQPvX8UmZFWVAx4Gy9proZUCiBp89G9BlQBxbCba7gmVAzvK2aD2uZUCbsaLljNdlQL/cO2dZj2VAuRVHPTeKZUCACi2SY9plQGjCLQb/n2VAAwtV1LufZEBgBHIaZQZmQG7I2Zx612VAqlshWnv5ZUADf042vANmQJvTgmKcQ2ZAvbi428feZEBV50c5nvhlQAH9gZGidWVA+4FhhoMjZkCZv/fhujdmQNpgA9NSvmRAZsbc1GivZUBeVf7t5xRlQBzEEuqfEmZAgV8DrAapZUB91TK61oVlQAFPOUgIjmVAc2+e2CwAZkCMdFyf9wdmQHdEWdCln2VAbpjMZDePZUCEi1d9ypZlQCOxWB/V7GVAwk5C+ZCQZUDi4qyWh7llQIKXALXcPWZA4ebb/7PVZUC8oKXUzzFlQH2JyBrFDGZArqPKz9ISZUBQl7FLPhpmQEZ/98jUBGZAG3as5c/FZUByP90FIo5lQP6JE6mIJGZAUhTIorn2ZEA=\",\"dtype\":\"float64\",\"shape\":[121]},\"y\":{\"__ndarray__\":\"1BlVqR1KUUC7QwpOrqxRQMizoZF9d1RACfY4dzlaVEAzxGkCFABQQFsA8MxlU1BAYc8y9ZF2UUDiOy7jlQ1RQLcs8ZIpOVBAuSaZBC2PUkC5PgXOIj5SQKq2RA0otE9AK5AgZYJmUEANLdlAzydRQFcP2A064FJAUiXnE7B0UEBzmKvblJBTQOnrAAnV8VBANSPRbmZKUEDOM6YB/ONPQAvTnPvjjFFAzPVfuOysT0BDNXcwyY9JQOaphE9k/U5AXZ8JLPEHUUCYTCZBPVVNQGkJDF557VBAJqirnyk3U0DELWV0rSpRQBwis7BTVVBADPQpVBTsUEDnyXT/2H1NQLB1cGh0EFBABxUkCnYTUkCjprLyhNROQNdd1KYGWFNACnz7jGC0UkAewqApWx5UQN0x8g+rYlBAxMc0F6mqUkApmhCSCdBNQDllJVGMXVJAbOsNGPGDT0CkKpOgUgJSQBWSFw+zLlNAGV4z4qWlUkAqBHZlLC9RQNed5l4PYVJAXRAi/cQlU0CyOTmnICVRQNL6gUf8xExA4R/rCebVVEB3Mj6LCJxRQA0qamhUb1BAmYRqtXBFUUA0sqTtC0xPQPe4GWDRa1BA1ZSiwq22UECYWK479NJUQE3hQRstPVJAtpavZkzHUEA2jasG55hQQJyGQIaVR1JADosKN40UUEAe9hyc36dTQL+dAnksjFNAE4MrudWjUEAMCfV6DI9QQAqDIKf9Y1FAH+Jcx12fUUA6teHDfkZSQBQtF+JeXlNAetKr69uDUEC7TQ867PNNQHqLXq46/E5ADGwUKh1iUkBcJ0ivE9pQQKxrAnOHaVFAc7fvSSHWUEBk8fI4CalRQHt6PD614FJA3HBN5G1LUUAD44WtlQRVQMupnOD5z09ANxvK/4/LTkCLVCDxzSFQQC5yuOChcFBAOxsu0JnkUEC7tgIuEY9SQMNvmf15LVNARaAy21yMSUCG8E1xmMtSQPthJEt+k1FAIARvgvxIUEAwoBhu8lBRQKMCfzMcRFBAMVvgFq3rUUAvQ8te1blKQLT9qV8A/VRAl4++6fApVEBHssSnujVPQKnBNX747VBA+EpclzdPUUC1VKEWz+hLQFzwU/apRlJAaawIFv/YUkDmFk2jlyRTQLT6qDoryU9A9GiM807STUCV/kEJj/RSQLU880Ld51FAFV1AgHzkUEDKa/2biOlSQE1ACzUbwFFA6ShIetrOTEBMrJbJZqpUQE8JtEnYD1FAyqQF6ZnwVEBhEAkyEVdUQB920CVD31FAmwUF2itLT0A=\",\"dtype\":\"float64\",\"shape\":[121]}},\"selected\":{\"id\":\"1074\",\"type\":\"Selection\"},\"selection_policy\":{\"id\":\"1073\",\"type\":\"UnionRenderers\"}},\"id\":\"1051\",\"type\":\"ColumnDataSource\"},{\"attributes\":{\"source\":{\"id\":\"1051\",\"type\":\"ColumnDataSource\"}},\"id\":\"1055\",\"type\":\"CDSView\"},{\"attributes\":{\"callback\":null},\"id\":\"1005\",\"type\":\"DataRange1d\"},{\"attributes\":{},\"id\":\"1023\",\"type\":\"PanTool\"},{\"attributes\":{},\"id\":\"1062\",\"type\":\"UnionRenderers\"},{\"attributes\":{},\"id\":\"1024\",\"type\":\"WheelZoomTool\"},{\"attributes\":{},\"id\":\"1063\",\"type\":\"Selection\"},{\"attributes\":{\"overlay\":{\"id\":\"1031\",\"type\":\"BoxAnnotation\"}},\"id\":\"1025\",\"type\":\"BoxZoomTool\"},{\"attributes\":{\"label\":{\"value\":\"Female\"},\"renderers\":[{\"id\":\"1054\",\"type\":\"GlyphRenderer\"}]},\"id\":\"1064\",\"type\":\"LegendItem\"},{\"attributes\":{},\"id\":\"1026\",\"type\":\"SaveTool\"},{\"attributes\":{\"callback\":null,\"data\":{\"x\":{\"__ndarray__\":\"yxluW3QJZUCm9cRd0UZlQIQNL8OPFWVAvqwh/19QZUDR//B0/cVkQOgmtyW06WRACfaDw1/3ZECZlkDdmvpkQLeUza94HmVAxPCTNXiBZEAEqMVCxNRkQLKaTM2yGGVAecFHOWfBZEAVhm7Kd/FkQGIbKtiHXmVAyiNiwIBsZUCe3mOtJtlkQJn3YUUG02RAlMUZoP7FZEBgBp6cIJplQDvJWDAX5WRA0FgUl9rHZECO3ZBDlyhlQDOK/n/1JGVAFRmS2VjUZEBJk89kNiplQN2u/jtZNGVASd3wpYw6ZUDU784agN5kQE3mSuE+A2VA9QIaNCUNZUCWwYJA7StlQMsvc6ivDmVAGdaGQV/7ZEC2OswkSyNlQADrOeYQ7GRAlhh73zsiZUBzx1IMkFFlQEb0Hp3762RAh3XX2AQZZUAEcvt4m4xkQP/iGNAc6WRAKwnBQd31ZEBNQE0DCJxkQJACBEQkQmVAnRx5NLsWZUAh15V8puNkQJkrfilaHmVAE31Wng0mZUBTFfmZ8pdkQJ4OGzSO+WRAEHYRm912ZUDnzR2fiiBlQEpVU4RUoGRALccUqvg0ZUDr0J84N0FlQBWGYNreY2RA8dF9nSwjZUArB3b7zNBkQOV95t5Du2RALK9uFq5RZUAkiyuaDUJlQLu142rjKGVA9GS/C8cQZUDkTJZ9MCFlQLJ1ARM0KmVAEXupTK/XZED6JT5NwapkQHdX2ET97mRATYGQPkc3ZUAFKl6P7iplQERtBFtY2WRAm4wLrVs5ZUBnLBKKv+pkQF5dr8+EdmVAzlam7y/vZEDcAVW1SABlQH6BsGrpVWVACKImqxOHZEDQOpk1UtpkQN+NzAQPAmVAxRf0fNLtZEC3sn362SRlQPx5w9sYs2RAWLEcHbgKZUArawLKhuRkQEBauMiq52RAWuPq2bFEZUDxy0lcP/dkQPdst95UlWRA8OlKAdJRZUAnPlE24PBkQPyYwoO2B2VA4MyND4KhZEDgvNdyzEdlQE6LCxWaOmVA9hbuW2azZEADrVoatLRkQKd2pgcjZ2VAqsoO0zjPZECatPjKDsFkQB8mPaNF+GRAJfEYGYb2ZEC/vduPq8RkQEuw9ZPmMmVAuJu4Zwz6ZEC/AVMergtlQFTfcur33WRANDsofkF5ZUBRbqRJdtNkQNm3HY/yEWVA\",\"dtype\":\"float64\",\"shape\":[111]},\"y\":{\"__ndarray__\":\"mHN86UOxS0DE9MZV0dlPQFDw8ORiDUpAfxDL3Or5SkDicoHo2jhOQPXwC/Y4+UpACe+kWRMKTkDZpqU1CqxKQM0iOHtGqE9AFr+ZXAJNUkDQOFnsx9VOQED1qJJ1XktAwEYiyhErT0AOZCDwCpxNQLT2wa96ok1A5fGqlnIkT0BXZFcEXEVPQHCEr0+Sd1BA+nEokrY9S0CNLJfSKhtRQPO1reiyhUxA2tEO/lVoUECZNC2HK9RKQByQfJBzLE5AngAJQQz3TEBPHr75FQJQQFNNNvwPIE1AwW9TbeNYSkBTuBBQn0pMQL8HrWHRcUlAqNcYYg1aUkAz3Czi3XVQQGkvR4ruek9AV8VMU+4IUUAqzQxugUFTQMlmhHqF+UlA1XpFHhJsSUDC5oLIr8lOQBigzlcbMVBAK9sZiAHdTECkdunu5LxHQGFHuuVQ1lNAc8fnynL/SUDgEfWEIrpJQJcbx7dVzlFANkRkgiY6S0DNeQwlUFpMQIzrqvQHFlJAyZKA9mVlTUC6GB4VXLdLQA3eQaJw5k9ANHAPllICTUDZ7CLfZ0ZQQJw8NJM4OUpAMSiYAGvPTUDX5CkQsEBQQON8hxWzqk5A5gz+yhOtTEDNOOZrqOpNQI45LLoiA1BAeCrU493sTkBZPWOc40dQQMi9j/LyTk5A8X1XGeb8TUCnGKB1O0VFQKGEi1VZwk5AsYCnnjm5T0Dg9wNdMPpPQHYSEJM7eFBAoS+COmxnTUBOTyjtm3hMQGCBbwY3w1JAqeoHMkqGUUBALJXatr1LQD5rMvA/509At4/hbPl9UUBcYzx5ftRKQKKuNYTDzE9AJIUyoCHbTkD14rv/j0NLQJ9PuXDM1k1Azzi31/j+T0BP0L2WY+dOQOzORJc1OktAXXFlxNx0UEDcoS49XNtOQGNhGSTyX1FA9pMn/pEFT0CZd4xs3P9OQJg3A4kpdUhA9hhEv09hUUAKraPxw01NQNF1ew5QQ1BAgmSW3vT0S0C0+DbqxGNRQLifT+P8dU5Ag2q9EYpTUEDpPIwAjd1MQD3VsT4zClBAqIX+d1bXTkDuxq01TgdRQKwFpxZlQFFA9fJmhzGCSkCp7cAEV3ZNQComjf/EllNA7ynmJi9oUUDkvfy7nFxQQJCKg9c7wEtAO43zPrbhTkDnR6cmdxFQQGFru/K+sUtA\",\"dtype\":\"float64\",\"shape\":[111]}},\"selected\":{\"id\":\"1063\",\"type\":\"Selection\"},\"selection_policy\":{\"id\":\"1062\",\"type\":\"UnionRenderers\"}},\"id\":\"1038\",\"type\":\"ColumnDataSource\"},{\"attributes\":{},\"id\":\"1027\",\"type\":\"ResetTool\"},{\"attributes\":{\"plot\":null,\"text\":\" Disney Demography Institute Survey\"},\"id\":\"1002\",\"type\":\"Title\"},{\"attributes\":{},\"id\":\"1073\",\"type\":\"UnionRenderers\"},{\"attributes\":{},\"id\":\"1028\",\"type\":\"HelpTool\"},{\"attributes\":{},\"id\":\"1074\",\"type\":\"Selection\"},{\"attributes\":{\"callback\":null},\"id\":\"1007\",\"type\":\"DataRange1d\"},{\"attributes\":{\"fill_color\":{\"value\":\"navy\"},\"line_color\":{\"value\":\"navy\"},\"size\":{\"units\":\"screen\",\"value\":5},\"x\":{\"field\":\"x\"},\"y\":{\"field\":\"y\"}},\"id\":\"1052\",\"type\":\"Circle\"},{\"attributes\":{\"bottom_units\":\"screen\",\"fill_alpha\":{\"value\":0.5},\"fill_color\":{\"value\":\"lightgrey\"},\"left_units\":\"screen\",\"level\":\"overlay\",\"line_alpha\":{\"value\":1.0},\"line_color\":{\"value\":\"black\"},\"line_dash\":[4,4],\"line_width\":{\"value\":2},\"plot\":null,\"render_mode\":\"css\",\"right_units\":\"screen\",\"top_units\":\"screen\"},\"id\":\"1031\",\"type\":\"BoxAnnotation\"},{\"attributes\":{},\"id\":\"1009\",\"type\":\"LinearScale\"}],\"root_ids\":[\"1003\"]},\"title\":\"Bokeh Application\",\"version\":\"1.0.1\"}};\n",
       "  var render_items = [{\"docid\":\"3e02c770-6d0e-4bd6-b5bf-35cb22c735a7\",\"roots\":{\"1003\":\"ca67cace-76fd-4ec4-b9ac-3f04a527752c\"}}];\n",
       "  root.Bokeh.embed.embed_items_notebook(docs_json, render_items);\n",
       "\n",
       "  }\n",
       "  if (root.Bokeh !== undefined) {\n",
       "    embed_document(root);\n",
       "  } else {\n",
       "    var attempts = 0;\n",
       "    var timer = setInterval(function(root) {\n",
       "      if (root.Bokeh !== undefined) {\n",
       "        embed_document(root);\n",
       "        clearInterval(timer);\n",
       "      }\n",
       "      attempts++;\n",
       "      if (attempts > 100) {\n",
       "        console.log(\"Bokeh: ERROR: Unable to run BokehJS code because BokehJS library is missing\");\n",
       "        clearInterval(timer);\n",
       "      }\n",
       "    }, 10, root)\n",
       "  }\n",
       "})(window);"
      ],
      "application/vnd.bokehjs_exec.v0+json": ""
     },
     "metadata": {
      "application/vnd.bokehjs_exec.v0+json": {
       "id": "1003"
      }
     },
     "output_type": "display_data"
    }
   ],
   "source": [
    "male=df.loc[df['gender'] == 1]\n",
    "female=df.loc[df['gender'] == -1]\n",
    "\n",
    "m_height=male['height']\n",
    "m_weight=male['weight']\n",
    "f_height=female['height']\n",
    "f_weight=female['weight']\n",
    "\n",
    "p = figure(title = \" Disney Demography Institute Survey\", plot_width=600, x_axis_label='Height (cm)', y_axis_label = 'Weight (kg)')\n",
    "p.circle(m_height, m_weight, size=5, color=\"yellow\", alpha=1.0,legend=\"Male\")\n",
    "p.circle(f_height, f_weight, size=5, color=\"navy\", alpha=1.0,legend=\"Female\")\n",
    "show(p)"
   ]
  },
  {
   "cell_type": "markdown",
   "metadata": {},
   "source": [
    "(b)  Draw a horizontal line for which you think that it best separates male and female citizens (you don’t need to calculate it)."
   ]
  },
  {
   "cell_type": "markdown",
   "metadata": {},
   "source": [
    "c)  One of the parents of Mr Duck Tales weighs 62 kg.  Would you say that she/he is his mother or his father?  Can you guarantee that you are right in your prediction?  Why?\n",
    "\n",
    "Answer: By looking at the horizontal line that separates the male and female citizen, it can be said that it is the father. We cannot guarantee if the prediction is right because the horizontal line has huge margin of error to classify male and female."
   ]
  },
  {
   "cell_type": "code",
   "execution_count": 5,
   "metadata": {},
   "outputs": [
    {
     "data": {
      "text/html": [
       "\n",
       "\n",
       "\n",
       "\n",
       "\n",
       "\n",
       "  <div class=\"bk-root\" id=\"b67a70e4-f23f-48e5-8214-bc4d77a817da\"></div>\n"
      ]
     },
     "metadata": {},
     "output_type": "display_data"
    },
    {
     "data": {
      "application/javascript": [
       "(function(root) {\n",
       "  function embed_document(root) {\n",
       "    \n",
       "  var docs_json = {\"3614071b-64fc-4fd0-be28-001caf51631d\":{\"roots\":{\"references\":[{\"attributes\":{\"below\":[{\"id\":\"1146\",\"type\":\"LinearAxis\"}],\"left\":[{\"id\":\"1151\",\"type\":\"LinearAxis\"}],\"renderers\":[{\"id\":\"1146\",\"type\":\"LinearAxis\"},{\"id\":\"1150\",\"type\":\"Grid\"},{\"id\":\"1151\",\"type\":\"LinearAxis\"},{\"id\":\"1155\",\"type\":\"Grid\"},{\"id\":\"1164\",\"type\":\"BoxAnnotation\"},{\"id\":\"1182\",\"type\":\"Legend\"},{\"id\":\"1174\",\"type\":\"GlyphRenderer\"},{\"id\":\"1187\",\"type\":\"GlyphRenderer\"},{\"id\":\"1201\",\"type\":\"GlyphRenderer\"},{\"id\":\"1206\",\"type\":\"GlyphRenderer\"}],\"title\":{\"id\":\"1135\",\"type\":\"Title\"},\"toolbar\":{\"id\":\"1162\",\"type\":\"Toolbar\"},\"x_range\":{\"id\":\"1138\",\"type\":\"DataRange1d\"},\"x_scale\":{\"id\":\"1142\",\"type\":\"LinearScale\"},\"y_range\":{\"id\":\"1140\",\"type\":\"DataRange1d\"},\"y_scale\":{\"id\":\"1144\",\"type\":\"LinearScale\"}},\"id\":\"1136\",\"subtype\":\"Figure\",\"type\":\"Plot\"},{\"attributes\":{\"source\":{\"id\":\"1171\",\"type\":\"ColumnDataSource\"}},\"id\":\"1175\",\"type\":\"CDSView\"},{\"attributes\":{\"fill_color\":{\"value\":\"red\"},\"line_color\":{\"value\":\"red\"},\"size\":{\"units\":\"screen\",\"value\":5},\"x\":{\"value\":170},\"y\":{\"value\":62}},\"id\":\"1204\",\"type\":\"Circle\"},{\"attributes\":{},\"id\":\"1226\",\"type\":\"UnionRenderers\"},{\"attributes\":{\"callback\":null},\"id\":\"1140\",\"type\":\"DataRange1d\"},{\"attributes\":{},\"id\":\"1179\",\"type\":\"BasicTickFormatter\"},{\"attributes\":{\"fill_alpha\":{\"value\":0.1},\"fill_color\":{\"value\":\"#1f77b4\"},\"line_alpha\":{\"value\":0.1},\"line_color\":{\"value\":\"#1f77b4\"},\"size\":{\"units\":\"screen\",\"value\":5},\"x\":{\"value\":170},\"y\":{\"value\":62}},\"id\":\"1205\",\"type\":\"Circle\"},{\"attributes\":{\"callback\":null},\"id\":\"1138\",\"type\":\"DataRange1d\"},{\"attributes\":{\"items\":[{\"id\":\"1183\",\"type\":\"LegendItem\"},{\"id\":\"1197\",\"type\":\"LegendItem\"}],\"plot\":{\"id\":\"1136\",\"subtype\":\"Figure\",\"type\":\"Plot\"}},\"id\":\"1182\",\"type\":\"Legend\"},{\"attributes\":{\"data_source\":{\"id\":\"1203\",\"type\":\"ColumnDataSource\"},\"glyph\":{\"id\":\"1204\",\"type\":\"Circle\"},\"hover_glyph\":null,\"muted_glyph\":null,\"nonselection_glyph\":{\"id\":\"1205\",\"type\":\"Circle\"},\"selection_glyph\":null,\"view\":{\"id\":\"1207\",\"type\":\"CDSView\"}},\"id\":\"1206\",\"type\":\"GlyphRenderer\"},{\"attributes\":{},\"id\":\"1144\",\"type\":\"LinearScale\"},{\"attributes\":{\"source\":{\"id\":\"1203\",\"type\":\"ColumnDataSource\"}},\"id\":\"1207\",\"type\":\"CDSView\"},{\"attributes\":{\"callback\":null,\"data\":{\"x\":[160,180],\"y\":[66,66]},\"selected\":{\"id\":\"1229\",\"type\":\"Selection\"},\"selection_policy\":{\"id\":\"1228\",\"type\":\"UnionRenderers\"}},\"id\":\"1198\",\"type\":\"ColumnDataSource\"},{\"attributes\":{},\"id\":\"1147\",\"type\":\"BasicTicker\"},{\"attributes\":{\"fill_color\":{\"value\":\"navy\"},\"line_color\":{\"value\":\"navy\"},\"size\":{\"units\":\"screen\",\"value\":5},\"x\":{\"field\":\"x\"},\"y\":{\"field\":\"y\"}},\"id\":\"1185\",\"type\":\"Circle\"},{\"attributes\":{\"axis_label\":\"Weight (kg)\",\"formatter\":{\"id\":\"1177\",\"type\":\"BasicTickFormatter\"},\"plot\":{\"id\":\"1136\",\"subtype\":\"Figure\",\"type\":\"Plot\"},\"ticker\":{\"id\":\"1152\",\"type\":\"BasicTicker\"}},\"id\":\"1151\",\"type\":\"LinearAxis\"},{\"attributes\":{},\"id\":\"1227\",\"type\":\"Selection\"},{\"attributes\":{\"fill_alpha\":{\"value\":0.1},\"fill_color\":{\"value\":\"#1f77b4\"},\"line_alpha\":{\"value\":0.1},\"line_color\":{\"value\":\"#1f77b4\"},\"size\":{\"units\":\"screen\",\"value\":5},\"x\":{\"field\":\"x\"},\"y\":{\"field\":\"y\"}},\"id\":\"1186\",\"type\":\"Circle\"},{\"attributes\":{},\"id\":\"1228\",\"type\":\"UnionRenderers\"},{\"attributes\":{\"plot\":{\"id\":\"1136\",\"subtype\":\"Figure\",\"type\":\"Plot\"},\"ticker\":{\"id\":\"1147\",\"type\":\"BasicTicker\"}},\"id\":\"1150\",\"type\":\"Grid\"},{\"attributes\":{\"data_source\":{\"id\":\"1184\",\"type\":\"ColumnDataSource\"},\"glyph\":{\"id\":\"1185\",\"type\":\"Circle\"},\"hover_glyph\":null,\"muted_glyph\":null,\"nonselection_glyph\":{\"id\":\"1186\",\"type\":\"Circle\"},\"selection_glyph\":null,\"view\":{\"id\":\"1188\",\"type\":\"CDSView\"}},\"id\":\"1187\",\"type\":\"GlyphRenderer\"},{\"attributes\":{},\"id\":\"1229\",\"type\":\"Selection\"},{\"attributes\":{},\"id\":\"1152\",\"type\":\"BasicTicker\"},{\"attributes\":{\"source\":{\"id\":\"1184\",\"type\":\"ColumnDataSource\"}},\"id\":\"1188\",\"type\":\"CDSView\"},{\"attributes\":{},\"id\":\"1230\",\"type\":\"UnionRenderers\"},{\"attributes\":{\"bottom_units\":\"screen\",\"fill_alpha\":{\"value\":0.5},\"fill_color\":{\"value\":\"lightgrey\"},\"left_units\":\"screen\",\"level\":\"overlay\",\"line_alpha\":{\"value\":1.0},\"line_color\":{\"value\":\"black\"},\"line_dash\":[4,4],\"line_width\":{\"value\":2},\"plot\":null,\"render_mode\":\"css\",\"right_units\":\"screen\",\"top_units\":\"screen\"},\"id\":\"1164\",\"type\":\"BoxAnnotation\"},{\"attributes\":{\"dimension\":1,\"plot\":{\"id\":\"1136\",\"subtype\":\"Figure\",\"type\":\"Plot\"},\"ticker\":{\"id\":\"1152\",\"type\":\"BasicTicker\"}},\"id\":\"1155\",\"type\":\"Grid\"},{\"attributes\":{\"plot\":null,\"text\":\" Disney Demography Institute Survey\"},\"id\":\"1135\",\"type\":\"Title\"},{\"attributes\":{},\"id\":\"1195\",\"type\":\"UnionRenderers\"},{\"attributes\":{},\"id\":\"1231\",\"type\":\"Selection\"},{\"attributes\":{\"fill_alpha\":{\"value\":0.1},\"fill_color\":{\"value\":\"#1f77b4\"},\"line_alpha\":{\"value\":0.1},\"line_color\":{\"value\":\"#1f77b4\"},\"size\":{\"units\":\"screen\",\"value\":5},\"x\":{\"field\":\"x\"},\"y\":{\"field\":\"y\"}},\"id\":\"1173\",\"type\":\"Circle\"},{\"attributes\":{},\"id\":\"1196\",\"type\":\"Selection\"},{\"attributes\":{\"fill_color\":{\"value\":\"yellow\"},\"line_color\":{\"value\":\"yellow\"},\"size\":{\"units\":\"screen\",\"value\":5},\"x\":{\"field\":\"x\"},\"y\":{\"field\":\"y\"}},\"id\":\"1172\",\"type\":\"Circle\"},{\"attributes\":{\"data_source\":{\"id\":\"1171\",\"type\":\"ColumnDataSource\"},\"glyph\":{\"id\":\"1172\",\"type\":\"Circle\"},\"hover_glyph\":null,\"muted_glyph\":null,\"nonselection_glyph\":{\"id\":\"1173\",\"type\":\"Circle\"},\"selection_glyph\":null,\"view\":{\"id\":\"1175\",\"type\":\"CDSView\"}},\"id\":\"1174\",\"type\":\"GlyphRenderer\"},{\"attributes\":{\"label\":{\"value\":\"Female\"},\"renderers\":[{\"id\":\"1187\",\"type\":\"GlyphRenderer\"}]},\"id\":\"1197\",\"type\":\"LegendItem\"},{\"attributes\":{\"callback\":null,\"data\":{\"x\":{\"__ndarray__\":\"SioWCu21ZUAIoO3S+9BlQL4NXTyf1WVA9Kh8JMxsZUCPLaNhJjRmQPDdhvVOsGVA6CLhcQCZZUDtrdKF9KBlQD9DDN2k32VAto0otfUNZkCjc7uIY5dlQJhSXUbwy2VAWATh+ETqZEDlmol/559lQGXgAQFz9mVAxThYYGyPZUA5y+STaOplQAtJSfM8zmVAbBWazBfgZUBzKyQEOKxlQCY/NnC+nGVAp/B+5dFrZUAM7vTkp8VlQGQk2h3CjmVAsCJvizACZkCn+bcW7gZmQMTwDe8ItWVAWrNhaLx7ZUBnl4PTiZJlQEcheGjQZGVA8ZoyW8asZUBnk1cSW4dlQNzqYi8XJmZAx3gKfehcZUAKTPDjKAFmQJn0xxzRX2VABmqrgJKqZUDI3m3lYwdmQCwpYV7wz2VAY9q2Bz/YZUApFGFtCyRlQGVqCQo3rmVAezy4IYbQZUDVLHAgn8VlQBMVHWVQqGVA8pPG2UvkZUBPgFviVMJlQCzZjeNc/GVAvSm+gxaDZUDpgoGNdo9lQC9oTlDClWVACQCzCFYJZkDWdBCV4rRlQKskEdJUrGVAEdq5xDhzZUAgzXp6mRNmQKXNTqRhn2VAOMRLpPLjZUDzuB2SX55lQPe1eXgmfWVAiHss78S7ZUAU0mCYa4NlQJ1Zrry8qGVA/1iV/1iQZUCdhLfnCZFlQLIBhqxCmmVAmRfg8q/AZUCkTBj88ONlQN93SUc/5WVAPk4h9jvSZUD3X2l1FYNlQFQEa6EQuGVA9k0xeZT5ZUB29405t95lQPvX8UmZFWVAx4Gy9proZUCiBp89G9BlQBxbCba7gmVAzvK2aD2uZUCbsaLljNdlQL/cO2dZj2VAuRVHPTeKZUCACi2SY9plQGjCLQb/n2VAAwtV1LufZEBgBHIaZQZmQG7I2Zx612VAqlshWnv5ZUADf042vANmQJvTgmKcQ2ZAvbi428feZEBV50c5nvhlQAH9gZGidWVA+4FhhoMjZkCZv/fhujdmQNpgA9NSvmRAZsbc1GivZUBeVf7t5xRlQBzEEuqfEmZAgV8DrAapZUB91TK61oVlQAFPOUgIjmVAc2+e2CwAZkCMdFyf9wdmQHdEWdCln2VAbpjMZDePZUCEi1d9ypZlQCOxWB/V7GVAwk5C+ZCQZUDi4qyWh7llQIKXALXcPWZA4ebb/7PVZUC8oKXUzzFlQH2JyBrFDGZArqPKz9ISZUBQl7FLPhpmQEZ/98jUBGZAG3as5c/FZUByP90FIo5lQP6JE6mIJGZAUhTIorn2ZEA=\",\"dtype\":\"float64\",\"shape\":[121]},\"y\":{\"__ndarray__\":\"1BlVqR1KUUC7QwpOrqxRQMizoZF9d1RACfY4dzlaVEAzxGkCFABQQFsA8MxlU1BAYc8y9ZF2UUDiOy7jlQ1RQLcs8ZIpOVBAuSaZBC2PUkC5PgXOIj5SQKq2RA0otE9AK5AgZYJmUEANLdlAzydRQFcP2A064FJAUiXnE7B0UEBzmKvblJBTQOnrAAnV8VBANSPRbmZKUEDOM6YB/ONPQAvTnPvjjFFAzPVfuOysT0BDNXcwyY9JQOaphE9k/U5AXZ8JLPEHUUCYTCZBPVVNQGkJDF557VBAJqirnyk3U0DELWV0rSpRQBwis7BTVVBADPQpVBTsUEDnyXT/2H1NQLB1cGh0EFBABxUkCnYTUkCjprLyhNROQNdd1KYGWFNACnz7jGC0UkAewqApWx5UQN0x8g+rYlBAxMc0F6mqUkApmhCSCdBNQDllJVGMXVJAbOsNGPGDT0CkKpOgUgJSQBWSFw+zLlNAGV4z4qWlUkAqBHZlLC9RQNed5l4PYVJAXRAi/cQlU0CyOTmnICVRQNL6gUf8xExA4R/rCebVVEB3Mj6LCJxRQA0qamhUb1BAmYRqtXBFUUA0sqTtC0xPQPe4GWDRa1BA1ZSiwq22UECYWK479NJUQE3hQRstPVJAtpavZkzHUEA2jasG55hQQJyGQIaVR1JADosKN40UUEAe9hyc36dTQL+dAnksjFNAE4MrudWjUEAMCfV6DI9QQAqDIKf9Y1FAH+Jcx12fUUA6teHDfkZSQBQtF+JeXlNAetKr69uDUEC7TQ867PNNQHqLXq46/E5ADGwUKh1iUkBcJ0ivE9pQQKxrAnOHaVFAc7fvSSHWUEBk8fI4CalRQHt6PD614FJA3HBN5G1LUUAD44WtlQRVQMupnOD5z09ANxvK/4/LTkCLVCDxzSFQQC5yuOChcFBAOxsu0JnkUEC7tgIuEY9SQMNvmf15LVNARaAy21yMSUCG8E1xmMtSQPthJEt+k1FAIARvgvxIUEAwoBhu8lBRQKMCfzMcRFBAMVvgFq3rUUAvQ8te1blKQLT9qV8A/VRAl4++6fApVEBHssSnujVPQKnBNX747VBA+EpclzdPUUC1VKEWz+hLQFzwU/apRlJAaawIFv/YUkDmFk2jlyRTQLT6qDoryU9A9GiM807STUCV/kEJj/RSQLU880Ld51FAFV1AgHzkUEDKa/2biOlSQE1ACzUbwFFA6ShIetrOTEBMrJbJZqpUQE8JtEnYD1FAyqQF6ZnwVEBhEAkyEVdUQB920CVD31FAmwUF2itLT0A=\",\"dtype\":\"float64\",\"shape\":[121]}},\"selected\":{\"id\":\"1227\",\"type\":\"Selection\"},\"selection_policy\":{\"id\":\"1226\",\"type\":\"UnionRenderers\"}},\"id\":\"1184\",\"type\":\"ColumnDataSource\"},{\"attributes\":{\"active_drag\":\"auto\",\"active_inspect\":\"auto\",\"active_multi\":null,\"active_scroll\":\"auto\",\"active_tap\":\"auto\",\"tools\":[{\"id\":\"1156\",\"type\":\"PanTool\"},{\"id\":\"1157\",\"type\":\"WheelZoomTool\"},{\"id\":\"1158\",\"type\":\"BoxZoomTool\"},{\"id\":\"1159\",\"type\":\"SaveTool\"},{\"id\":\"1160\",\"type\":\"ResetTool\"},{\"id\":\"1161\",\"type\":\"HelpTool\"}]},\"id\":\"1162\",\"type\":\"Toolbar\"},{\"attributes\":{\"label\":{\"value\":\"Male\"},\"renderers\":[{\"id\":\"1174\",\"type\":\"GlyphRenderer\"}]},\"id\":\"1183\",\"type\":\"LegendItem\"},{\"attributes\":{},\"id\":\"1142\",\"type\":\"LinearScale\"},{\"attributes\":{\"callback\":null,\"data\":{},\"selected\":{\"id\":\"1231\",\"type\":\"Selection\"},\"selection_policy\":{\"id\":\"1230\",\"type\":\"UnionRenderers\"}},\"id\":\"1203\",\"type\":\"ColumnDataSource\"},{\"attributes\":{},\"id\":\"1156\",\"type\":\"PanTool\"},{\"attributes\":{\"line_color\":\"hotpink\",\"line_width\":2,\"x\":{\"field\":\"x\"},\"y\":{\"field\":\"y\"}},\"id\":\"1199\",\"type\":\"Line\"},{\"attributes\":{},\"id\":\"1177\",\"type\":\"BasicTickFormatter\"},{\"attributes\":{},\"id\":\"1157\",\"type\":\"WheelZoomTool\"},{\"attributes\":{\"line_alpha\":0.1,\"line_color\":\"#1f77b4\",\"line_width\":2,\"x\":{\"field\":\"x\"},\"y\":{\"field\":\"y\"}},\"id\":\"1200\",\"type\":\"Line\"},{\"attributes\":{\"overlay\":{\"id\":\"1164\",\"type\":\"BoxAnnotation\"}},\"id\":\"1158\",\"type\":\"BoxZoomTool\"},{\"attributes\":{\"axis_label\":\"Height (cm)\",\"formatter\":{\"id\":\"1179\",\"type\":\"BasicTickFormatter\"},\"plot\":{\"id\":\"1136\",\"subtype\":\"Figure\",\"type\":\"Plot\"},\"ticker\":{\"id\":\"1147\",\"type\":\"BasicTicker\"}},\"id\":\"1146\",\"type\":\"LinearAxis\"},{\"attributes\":{\"data_source\":{\"id\":\"1198\",\"type\":\"ColumnDataSource\"},\"glyph\":{\"id\":\"1199\",\"type\":\"Line\"},\"hover_glyph\":null,\"muted_glyph\":null,\"nonselection_glyph\":{\"id\":\"1200\",\"type\":\"Line\"},\"selection_glyph\":null,\"view\":{\"id\":\"1202\",\"type\":\"CDSView\"}},\"id\":\"1201\",\"type\":\"GlyphRenderer\"},{\"attributes\":{},\"id\":\"1159\",\"type\":\"SaveTool\"},{\"attributes\":{\"callback\":null,\"data\":{\"x\":{\"__ndarray__\":\"yxluW3QJZUCm9cRd0UZlQIQNL8OPFWVAvqwh/19QZUDR//B0/cVkQOgmtyW06WRACfaDw1/3ZECZlkDdmvpkQLeUza94HmVAxPCTNXiBZEAEqMVCxNRkQLKaTM2yGGVAecFHOWfBZEAVhm7Kd/FkQGIbKtiHXmVAyiNiwIBsZUCe3mOtJtlkQJn3YUUG02RAlMUZoP7FZEBgBp6cIJplQDvJWDAX5WRA0FgUl9rHZECO3ZBDlyhlQDOK/n/1JGVAFRmS2VjUZEBJk89kNiplQN2u/jtZNGVASd3wpYw6ZUDU784agN5kQE3mSuE+A2VA9QIaNCUNZUCWwYJA7StlQMsvc6ivDmVAGdaGQV/7ZEC2OswkSyNlQADrOeYQ7GRAlhh73zsiZUBzx1IMkFFlQEb0Hp3762RAh3XX2AQZZUAEcvt4m4xkQP/iGNAc6WRAKwnBQd31ZEBNQE0DCJxkQJACBEQkQmVAnRx5NLsWZUAh15V8puNkQJkrfilaHmVAE31Wng0mZUBTFfmZ8pdkQJ4OGzSO+WRAEHYRm912ZUDnzR2fiiBlQEpVU4RUoGRALccUqvg0ZUDr0J84N0FlQBWGYNreY2RA8dF9nSwjZUArB3b7zNBkQOV95t5Du2RALK9uFq5RZUAkiyuaDUJlQLu142rjKGVA9GS/C8cQZUDkTJZ9MCFlQLJ1ARM0KmVAEXupTK/XZED6JT5NwapkQHdX2ET97mRATYGQPkc3ZUAFKl6P7iplQERtBFtY2WRAm4wLrVs5ZUBnLBKKv+pkQF5dr8+EdmVAzlam7y/vZEDcAVW1SABlQH6BsGrpVWVACKImqxOHZEDQOpk1UtpkQN+NzAQPAmVAxRf0fNLtZEC3sn362SRlQPx5w9sYs2RAWLEcHbgKZUArawLKhuRkQEBauMiq52RAWuPq2bFEZUDxy0lcP/dkQPdst95UlWRA8OlKAdJRZUAnPlE24PBkQPyYwoO2B2VA4MyND4KhZEDgvNdyzEdlQE6LCxWaOmVA9hbuW2azZEADrVoatLRkQKd2pgcjZ2VAqsoO0zjPZECatPjKDsFkQB8mPaNF+GRAJfEYGYb2ZEC/vduPq8RkQEuw9ZPmMmVAuJu4Zwz6ZEC/AVMergtlQFTfcur33WRANDsofkF5ZUBRbqRJdtNkQNm3HY/yEWVA\",\"dtype\":\"float64\",\"shape\":[111]},\"y\":{\"__ndarray__\":\"mHN86UOxS0DE9MZV0dlPQFDw8ORiDUpAfxDL3Or5SkDicoHo2jhOQPXwC/Y4+UpACe+kWRMKTkDZpqU1CqxKQM0iOHtGqE9AFr+ZXAJNUkDQOFnsx9VOQED1qJJ1XktAwEYiyhErT0AOZCDwCpxNQLT2wa96ok1A5fGqlnIkT0BXZFcEXEVPQHCEr0+Sd1BA+nEokrY9S0CNLJfSKhtRQPO1reiyhUxA2tEO/lVoUECZNC2HK9RKQByQfJBzLE5AngAJQQz3TEBPHr75FQJQQFNNNvwPIE1AwW9TbeNYSkBTuBBQn0pMQL8HrWHRcUlAqNcYYg1aUkAz3Czi3XVQQGkvR4ruek9AV8VMU+4IUUAqzQxugUFTQMlmhHqF+UlA1XpFHhJsSUDC5oLIr8lOQBigzlcbMVBAK9sZiAHdTECkdunu5LxHQGFHuuVQ1lNAc8fnynL/SUDgEfWEIrpJQJcbx7dVzlFANkRkgiY6S0DNeQwlUFpMQIzrqvQHFlJAyZKA9mVlTUC6GB4VXLdLQA3eQaJw5k9ANHAPllICTUDZ7CLfZ0ZQQJw8NJM4OUpAMSiYAGvPTUDX5CkQsEBQQON8hxWzqk5A5gz+yhOtTEDNOOZrqOpNQI45LLoiA1BAeCrU493sTkBZPWOc40dQQMi9j/LyTk5A8X1XGeb8TUCnGKB1O0VFQKGEi1VZwk5AsYCnnjm5T0Dg9wNdMPpPQHYSEJM7eFBAoS+COmxnTUBOTyjtm3hMQGCBbwY3w1JAqeoHMkqGUUBALJXatr1LQD5rMvA/509At4/hbPl9UUBcYzx5ftRKQKKuNYTDzE9AJIUyoCHbTkD14rv/j0NLQJ9PuXDM1k1Azzi31/j+T0BP0L2WY+dOQOzORJc1OktAXXFlxNx0UEDcoS49XNtOQGNhGSTyX1FA9pMn/pEFT0CZd4xs3P9OQJg3A4kpdUhA9hhEv09hUUAKraPxw01NQNF1ew5QQ1BAgmSW3vT0S0C0+DbqxGNRQLifT+P8dU5Ag2q9EYpTUEDpPIwAjd1MQD3VsT4zClBAqIX+d1bXTkDuxq01TgdRQKwFpxZlQFFA9fJmhzGCSkCp7cAEV3ZNQComjf/EllNA7ynmJi9oUUDkvfy7nFxQQJCKg9c7wEtAO43zPrbhTkDnR6cmdxFQQGFru/K+sUtA\",\"dtype\":\"float64\",\"shape\":[111]}},\"selected\":{\"id\":\"1196\",\"type\":\"Selection\"},\"selection_policy\":{\"id\":\"1195\",\"type\":\"UnionRenderers\"}},\"id\":\"1171\",\"type\":\"ColumnDataSource\"},{\"attributes\":{\"source\":{\"id\":\"1198\",\"type\":\"ColumnDataSource\"}},\"id\":\"1202\",\"type\":\"CDSView\"},{\"attributes\":{},\"id\":\"1161\",\"type\":\"HelpTool\"},{\"attributes\":{},\"id\":\"1160\",\"type\":\"ResetTool\"}],\"root_ids\":[\"1136\"]},\"title\":\"Bokeh Application\",\"version\":\"1.0.1\"}};\n",
       "  var render_items = [{\"docid\":\"3614071b-64fc-4fd0-be28-001caf51631d\",\"roots\":{\"1136\":\"b67a70e4-f23f-48e5-8214-bc4d77a817da\"}}];\n",
       "  root.Bokeh.embed.embed_items_notebook(docs_json, render_items);\n",
       "\n",
       "  }\n",
       "  if (root.Bokeh !== undefined) {\n",
       "    embed_document(root);\n",
       "  } else {\n",
       "    var attempts = 0;\n",
       "    var timer = setInterval(function(root) {\n",
       "      if (root.Bokeh !== undefined) {\n",
       "        embed_document(root);\n",
       "        clearInterval(timer);\n",
       "      }\n",
       "      attempts++;\n",
       "      if (attempts > 100) {\n",
       "        console.log(\"Bokeh: ERROR: Unable to run BokehJS code because BokehJS library is missing\");\n",
       "        clearInterval(timer);\n",
       "      }\n",
       "    }, 10, root)\n",
       "  }\n",
       "})(window);"
      ],
      "application/vnd.bokehjs_exec.v0+json": ""
     },
     "metadata": {
      "application/vnd.bokehjs_exec.v0+json": {
       "id": "1136"
      }
     },
     "output_type": "display_data"
    }
   ],
   "source": [
    "p = figure(title = \" Disney Demography Institute Survey\", plot_width=600, x_axis_label='Height (cm)', y_axis_label = 'Weight (kg)')\n",
    "p.circle(m_height, m_weight, size=5, color=\"yellow\", alpha=1.0,legend=\"Male\")\n",
    "p.circle(f_height, f_weight, size=5, color=\"navy\", alpha=1.0,legend=\"Female\")\n",
    "p.line([160,180], [66,66], line_width=2,color=\"hotpink\")\n",
    "p.circle(170, 62,  size=5, color=\"red\")\n",
    "show(p)"
   ]
  },
  {
   "cell_type": "markdown",
   "metadata": {},
   "source": [
    "d) Draw a vertical line for which you think that it best separates male and female citizens (again,you don’t need to calculate it)."
   ]
  },
  {
   "cell_type": "markdown",
   "metadata": {},
   "source": [
    "(e)  Mrs Minnie Mouse has two siblings.  One of them is 181 tall.  Would you say that she/he is his brother or his sister?  Can you guarantee that you are right in your prediction?  Why?\n",
    "\n",
    "Answers: From the plot, we can say its her sister. It is highly likely that the prediction is right because the upperbound of the height of male is around 173 tall(only one) and mostly less than 172 cm. From the plot we can see most of female have height higher than 172cm so it should be a female (her sister).\n"
   ]
  },
  {
   "cell_type": "code",
   "execution_count": 22,
   "metadata": {},
   "outputs": [
    {
     "data": {
      "text/html": [
       "\n",
       "\n",
       "\n",
       "\n",
       "\n",
       "\n",
       "  <div class=\"bk-root\" id=\"085c1894-10d1-42a7-a77e-004243d5ad71\"></div>\n"
      ]
     },
     "metadata": {},
     "output_type": "display_data"
    },
    {
     "data": {
      "application/javascript": [
       "(function(root) {\n",
       "  function embed_document(root) {\n",
       "    \n",
       "  var docs_json = {\"a739f40d-69c6-4bfc-97dd-3b76000be2c2\":{\"roots\":{\"references\":[{\"attributes\":{\"below\":[{\"id\":\"2524\",\"type\":\"LinearAxis\"}],\"left\":[{\"id\":\"2529\",\"type\":\"LinearAxis\"}],\"renderers\":[{\"id\":\"2524\",\"type\":\"LinearAxis\"},{\"id\":\"2528\",\"type\":\"Grid\"},{\"id\":\"2529\",\"type\":\"LinearAxis\"},{\"id\":\"2533\",\"type\":\"Grid\"},{\"id\":\"2542\",\"type\":\"BoxAnnotation\"},{\"id\":\"2560\",\"type\":\"Legend\"},{\"id\":\"2552\",\"type\":\"GlyphRenderer\"},{\"id\":\"2565\",\"type\":\"GlyphRenderer\"},{\"id\":\"2579\",\"type\":\"GlyphRenderer\"},{\"id\":\"2584\",\"type\":\"GlyphRenderer\"}],\"title\":{\"id\":\"2513\",\"type\":\"Title\"},\"toolbar\":{\"id\":\"2540\",\"type\":\"Toolbar\"},\"x_range\":{\"id\":\"2516\",\"type\":\"DataRange1d\"},\"x_scale\":{\"id\":\"2520\",\"type\":\"LinearScale\"},\"y_range\":{\"id\":\"2518\",\"type\":\"DataRange1d\"},\"y_scale\":{\"id\":\"2522\",\"type\":\"LinearScale\"}},\"id\":\"2514\",\"subtype\":\"Figure\",\"type\":\"Plot\"},{\"attributes\":{\"bottom_units\":\"screen\",\"fill_alpha\":{\"value\":0.5},\"fill_color\":{\"value\":\"lightgrey\"},\"left_units\":\"screen\",\"level\":\"overlay\",\"line_alpha\":{\"value\":1.0},\"line_color\":{\"value\":\"black\"},\"line_dash\":[4,4],\"line_width\":{\"value\":2},\"plot\":null,\"render_mode\":\"css\",\"right_units\":\"screen\",\"top_units\":\"screen\"},\"id\":\"2542\",\"type\":\"BoxAnnotation\"},{\"attributes\":{\"source\":{\"id\":\"2576\",\"type\":\"ColumnDataSource\"}},\"id\":\"2580\",\"type\":\"CDSView\"},{\"attributes\":{},\"id\":\"2520\",\"type\":\"LinearScale\"},{\"attributes\":{\"data_source\":{\"id\":\"2549\",\"type\":\"ColumnDataSource\"},\"glyph\":{\"id\":\"2550\",\"type\":\"Circle\"},\"hover_glyph\":null,\"muted_glyph\":null,\"nonselection_glyph\":{\"id\":\"2551\",\"type\":\"Circle\"},\"selection_glyph\":null,\"view\":{\"id\":\"2553\",\"type\":\"CDSView\"}},\"id\":\"2552\",\"type\":\"GlyphRenderer\"},{\"attributes\":{\"callback\":null,\"data\":{\"x\":{\"__ndarray__\":\"yxluW3QJZUCm9cRd0UZlQIQNL8OPFWVAvqwh/19QZUDR//B0/cVkQOgmtyW06WRACfaDw1/3ZECZlkDdmvpkQLeUza94HmVAxPCTNXiBZEAEqMVCxNRkQLKaTM2yGGVAecFHOWfBZEAVhm7Kd/FkQGIbKtiHXmVAyiNiwIBsZUCe3mOtJtlkQJn3YUUG02RAlMUZoP7FZEBgBp6cIJplQDvJWDAX5WRA0FgUl9rHZECO3ZBDlyhlQDOK/n/1JGVAFRmS2VjUZEBJk89kNiplQN2u/jtZNGVASd3wpYw6ZUDU784agN5kQE3mSuE+A2VA9QIaNCUNZUCWwYJA7StlQMsvc6ivDmVAGdaGQV/7ZEC2OswkSyNlQADrOeYQ7GRAlhh73zsiZUBzx1IMkFFlQEb0Hp3762RAh3XX2AQZZUAEcvt4m4xkQP/iGNAc6WRAKwnBQd31ZEBNQE0DCJxkQJACBEQkQmVAnRx5NLsWZUAh15V8puNkQJkrfilaHmVAE31Wng0mZUBTFfmZ8pdkQJ4OGzSO+WRAEHYRm912ZUDnzR2fiiBlQEpVU4RUoGRALccUqvg0ZUDr0J84N0FlQBWGYNreY2RA8dF9nSwjZUArB3b7zNBkQOV95t5Du2RALK9uFq5RZUAkiyuaDUJlQLu142rjKGVA9GS/C8cQZUDkTJZ9MCFlQLJ1ARM0KmVAEXupTK/XZED6JT5NwapkQHdX2ET97mRATYGQPkc3ZUAFKl6P7iplQERtBFtY2WRAm4wLrVs5ZUBnLBKKv+pkQF5dr8+EdmVAzlam7y/vZEDcAVW1SABlQH6BsGrpVWVACKImqxOHZEDQOpk1UtpkQN+NzAQPAmVAxRf0fNLtZEC3sn362SRlQPx5w9sYs2RAWLEcHbgKZUArawLKhuRkQEBauMiq52RAWuPq2bFEZUDxy0lcP/dkQPdst95UlWRA8OlKAdJRZUAnPlE24PBkQPyYwoO2B2VA4MyND4KhZEDgvNdyzEdlQE6LCxWaOmVA9hbuW2azZEADrVoatLRkQKd2pgcjZ2VAqsoO0zjPZECatPjKDsFkQB8mPaNF+GRAJfEYGYb2ZEC/vduPq8RkQEuw9ZPmMmVAuJu4Zwz6ZEC/AVMergtlQFTfcur33WRANDsofkF5ZUBRbqRJdtNkQNm3HY/yEWVA\",\"dtype\":\"float64\",\"shape\":[111]},\"y\":{\"__ndarray__\":\"mHN86UOxS0DE9MZV0dlPQFDw8ORiDUpAfxDL3Or5SkDicoHo2jhOQPXwC/Y4+UpACe+kWRMKTkDZpqU1CqxKQM0iOHtGqE9AFr+ZXAJNUkDQOFnsx9VOQED1qJJ1XktAwEYiyhErT0AOZCDwCpxNQLT2wa96ok1A5fGqlnIkT0BXZFcEXEVPQHCEr0+Sd1BA+nEokrY9S0CNLJfSKhtRQPO1reiyhUxA2tEO/lVoUECZNC2HK9RKQByQfJBzLE5AngAJQQz3TEBPHr75FQJQQFNNNvwPIE1AwW9TbeNYSkBTuBBQn0pMQL8HrWHRcUlAqNcYYg1aUkAz3Czi3XVQQGkvR4ruek9AV8VMU+4IUUAqzQxugUFTQMlmhHqF+UlA1XpFHhJsSUDC5oLIr8lOQBigzlcbMVBAK9sZiAHdTECkdunu5LxHQGFHuuVQ1lNAc8fnynL/SUDgEfWEIrpJQJcbx7dVzlFANkRkgiY6S0DNeQwlUFpMQIzrqvQHFlJAyZKA9mVlTUC6GB4VXLdLQA3eQaJw5k9ANHAPllICTUDZ7CLfZ0ZQQJw8NJM4OUpAMSiYAGvPTUDX5CkQsEBQQON8hxWzqk5A5gz+yhOtTEDNOOZrqOpNQI45LLoiA1BAeCrU493sTkBZPWOc40dQQMi9j/LyTk5A8X1XGeb8TUCnGKB1O0VFQKGEi1VZwk5AsYCnnjm5T0Dg9wNdMPpPQHYSEJM7eFBAoS+COmxnTUBOTyjtm3hMQGCBbwY3w1JAqeoHMkqGUUBALJXatr1LQD5rMvA/509At4/hbPl9UUBcYzx5ftRKQKKuNYTDzE9AJIUyoCHbTkD14rv/j0NLQJ9PuXDM1k1Azzi31/j+T0BP0L2WY+dOQOzORJc1OktAXXFlxNx0UEDcoS49XNtOQGNhGSTyX1FA9pMn/pEFT0CZd4xs3P9OQJg3A4kpdUhA9hhEv09hUUAKraPxw01NQNF1ew5QQ1BAgmSW3vT0S0C0+DbqxGNRQLifT+P8dU5Ag2q9EYpTUEDpPIwAjd1MQD3VsT4zClBAqIX+d1bXTkDuxq01TgdRQKwFpxZlQFFA9fJmhzGCSkCp7cAEV3ZNQComjf/EllNA7ynmJi9oUUDkvfy7nFxQQJCKg9c7wEtAO43zPrbhTkDnR6cmdxFQQGFru/K+sUtA\",\"dtype\":\"float64\",\"shape\":[111]}},\"selected\":{\"id\":\"2573\",\"type\":\"Selection\"},\"selection_policy\":{\"id\":\"2572\",\"type\":\"UnionRenderers\"}},\"id\":\"2549\",\"type\":\"ColumnDataSource\"},{\"attributes\":{},\"id\":\"2618\",\"type\":\"Selection\"},{\"attributes\":{},\"id\":\"2522\",\"type\":\"LinearScale\"},{\"attributes\":{\"source\":{\"id\":\"2549\",\"type\":\"ColumnDataSource\"}},\"id\":\"2553\",\"type\":\"CDSView\"},{\"attributes\":{},\"id\":\"2617\",\"type\":\"UnionRenderers\"},{\"attributes\":{\"axis_label\":\"Height (cm)\",\"formatter\":{\"id\":\"2556\",\"type\":\"BasicTickFormatter\"},\"plot\":{\"id\":\"2514\",\"subtype\":\"Figure\",\"type\":\"Plot\"},\"ticker\":{\"id\":\"2525\",\"type\":\"BasicTicker\"}},\"id\":\"2524\",\"type\":\"LinearAxis\"},{\"attributes\":{},\"id\":\"2556\",\"type\":\"BasicTickFormatter\"},{\"attributes\":{\"callback\":null,\"data\":{\"x\":{\"__ndarray__\":\"SioWCu21ZUAIoO3S+9BlQL4NXTyf1WVA9Kh8JMxsZUCPLaNhJjRmQPDdhvVOsGVA6CLhcQCZZUDtrdKF9KBlQD9DDN2k32VAto0otfUNZkCjc7uIY5dlQJhSXUbwy2VAWATh+ETqZEDlmol/559lQGXgAQFz9mVAxThYYGyPZUA5y+STaOplQAtJSfM8zmVAbBWazBfgZUBzKyQEOKxlQCY/NnC+nGVAp/B+5dFrZUAM7vTkp8VlQGQk2h3CjmVAsCJvizACZkCn+bcW7gZmQMTwDe8ItWVAWrNhaLx7ZUBnl4PTiZJlQEcheGjQZGVA8ZoyW8asZUBnk1cSW4dlQNzqYi8XJmZAx3gKfehcZUAKTPDjKAFmQJn0xxzRX2VABmqrgJKqZUDI3m3lYwdmQCwpYV7wz2VAY9q2Bz/YZUApFGFtCyRlQGVqCQo3rmVAezy4IYbQZUDVLHAgn8VlQBMVHWVQqGVA8pPG2UvkZUBPgFviVMJlQCzZjeNc/GVAvSm+gxaDZUDpgoGNdo9lQC9oTlDClWVACQCzCFYJZkDWdBCV4rRlQKskEdJUrGVAEdq5xDhzZUAgzXp6mRNmQKXNTqRhn2VAOMRLpPLjZUDzuB2SX55lQPe1eXgmfWVAiHss78S7ZUAU0mCYa4NlQJ1Zrry8qGVA/1iV/1iQZUCdhLfnCZFlQLIBhqxCmmVAmRfg8q/AZUCkTBj88ONlQN93SUc/5WVAPk4h9jvSZUD3X2l1FYNlQFQEa6EQuGVA9k0xeZT5ZUB29405t95lQPvX8UmZFWVAx4Gy9proZUCiBp89G9BlQBxbCba7gmVAzvK2aD2uZUCbsaLljNdlQL/cO2dZj2VAuRVHPTeKZUCACi2SY9plQGjCLQb/n2VAAwtV1LufZEBgBHIaZQZmQG7I2Zx612VAqlshWnv5ZUADf042vANmQJvTgmKcQ2ZAvbi428feZEBV50c5nvhlQAH9gZGidWVA+4FhhoMjZkCZv/fhujdmQNpgA9NSvmRAZsbc1GivZUBeVf7t5xRlQBzEEuqfEmZAgV8DrAapZUB91TK61oVlQAFPOUgIjmVAc2+e2CwAZkCMdFyf9wdmQHdEWdCln2VAbpjMZDePZUCEi1d9ypZlQCOxWB/V7GVAwk5C+ZCQZUDi4qyWh7llQIKXALXcPWZA4ebb/7PVZUC8oKXUzzFlQH2JyBrFDGZArqPKz9ISZUBQl7FLPhpmQEZ/98jUBGZAG3as5c/FZUByP90FIo5lQP6JE6mIJGZAUhTIorn2ZEA=\",\"dtype\":\"float64\",\"shape\":[121]},\"y\":{\"__ndarray__\":\"1BlVqR1KUUC7QwpOrqxRQMizoZF9d1RACfY4dzlaVEAzxGkCFABQQFsA8MxlU1BAYc8y9ZF2UUDiOy7jlQ1RQLcs8ZIpOVBAuSaZBC2PUkC5PgXOIj5SQKq2RA0otE9AK5AgZYJmUEANLdlAzydRQFcP2A064FJAUiXnE7B0UEBzmKvblJBTQOnrAAnV8VBANSPRbmZKUEDOM6YB/ONPQAvTnPvjjFFAzPVfuOysT0BDNXcwyY9JQOaphE9k/U5AXZ8JLPEHUUCYTCZBPVVNQGkJDF557VBAJqirnyk3U0DELWV0rSpRQBwis7BTVVBADPQpVBTsUEDnyXT/2H1NQLB1cGh0EFBABxUkCnYTUkCjprLyhNROQNdd1KYGWFNACnz7jGC0UkAewqApWx5UQN0x8g+rYlBAxMc0F6mqUkApmhCSCdBNQDllJVGMXVJAbOsNGPGDT0CkKpOgUgJSQBWSFw+zLlNAGV4z4qWlUkAqBHZlLC9RQNed5l4PYVJAXRAi/cQlU0CyOTmnICVRQNL6gUf8xExA4R/rCebVVEB3Mj6LCJxRQA0qamhUb1BAmYRqtXBFUUA0sqTtC0xPQPe4GWDRa1BA1ZSiwq22UECYWK479NJUQE3hQRstPVJAtpavZkzHUEA2jasG55hQQJyGQIaVR1JADosKN40UUEAe9hyc36dTQL+dAnksjFNAE4MrudWjUEAMCfV6DI9QQAqDIKf9Y1FAH+Jcx12fUUA6teHDfkZSQBQtF+JeXlNAetKr69uDUEC7TQ867PNNQHqLXq46/E5ADGwUKh1iUkBcJ0ivE9pQQKxrAnOHaVFAc7fvSSHWUEBk8fI4CalRQHt6PD614FJA3HBN5G1LUUAD44WtlQRVQMupnOD5z09ANxvK/4/LTkCLVCDxzSFQQC5yuOChcFBAOxsu0JnkUEC7tgIuEY9SQMNvmf15LVNARaAy21yMSUCG8E1xmMtSQPthJEt+k1FAIARvgvxIUEAwoBhu8lBRQKMCfzMcRFBAMVvgFq3rUUAvQ8te1blKQLT9qV8A/VRAl4++6fApVEBHssSnujVPQKnBNX747VBA+EpclzdPUUC1VKEWz+hLQFzwU/apRlJAaawIFv/YUkDmFk2jlyRTQLT6qDoryU9A9GiM807STUCV/kEJj/RSQLU880Ld51FAFV1AgHzkUEDKa/2biOlSQE1ACzUbwFFA6ShIetrOTEBMrJbJZqpUQE8JtEnYD1FAyqQF6ZnwVEBhEAkyEVdUQB920CVD31FAmwUF2itLT0A=\",\"dtype\":\"float64\",\"shape\":[121]}},\"selected\":{\"id\":\"2618\",\"type\":\"Selection\"},\"selection_policy\":{\"id\":\"2617\",\"type\":\"UnionRenderers\"}},\"id\":\"2562\",\"type\":\"ColumnDataSource\"},{\"attributes\":{\"fill_color\":{\"value\":\"red\"},\"line_color\":{\"value\":\"red\"},\"size\":{\"units\":\"screen\",\"value\":5},\"x\":{\"value\":181},\"y\":{\"value\":80}},\"id\":\"2582\",\"type\":\"Circle\"},{\"attributes\":{},\"id\":\"2525\",\"type\":\"BasicTicker\"},{\"attributes\":{},\"id\":\"2558\",\"type\":\"BasicTickFormatter\"},{\"attributes\":{\"fill_alpha\":{\"value\":0.1},\"fill_color\":{\"value\":\"#1f77b4\"},\"line_alpha\":{\"value\":0.1},\"line_color\":{\"value\":\"#1f77b4\"},\"size\":{\"units\":\"screen\",\"value\":5},\"x\":{\"value\":181},\"y\":{\"value\":80}},\"id\":\"2583\",\"type\":\"Circle\"},{\"attributes\":{\"plot\":{\"id\":\"2514\",\"subtype\":\"Figure\",\"type\":\"Plot\"},\"ticker\":{\"id\":\"2525\",\"type\":\"BasicTicker\"}},\"id\":\"2528\",\"type\":\"Grid\"},{\"attributes\":{\"items\":[{\"id\":\"2561\",\"type\":\"LegendItem\"},{\"id\":\"2575\",\"type\":\"LegendItem\"}],\"plot\":{\"id\":\"2514\",\"subtype\":\"Figure\",\"type\":\"Plot\"}},\"id\":\"2560\",\"type\":\"Legend\"},{\"attributes\":{\"axis_label\":\"Weight (kg)\",\"formatter\":{\"id\":\"2558\",\"type\":\"BasicTickFormatter\"},\"plot\":{\"id\":\"2514\",\"subtype\":\"Figure\",\"type\":\"Plot\"},\"ticker\":{\"id\":\"2530\",\"type\":\"BasicTicker\"}},\"id\":\"2529\",\"type\":\"LinearAxis\"},{\"attributes\":{\"data_source\":{\"id\":\"2581\",\"type\":\"ColumnDataSource\"},\"glyph\":{\"id\":\"2582\",\"type\":\"Circle\"},\"hover_glyph\":null,\"muted_glyph\":null,\"nonselection_glyph\":{\"id\":\"2583\",\"type\":\"Circle\"},\"selection_glyph\":null,\"view\":{\"id\":\"2585\",\"type\":\"CDSView\"}},\"id\":\"2584\",\"type\":\"GlyphRenderer\"},{\"attributes\":{\"callback\":null,\"data\":{\"x\":[171,171],\"y\":[40,100]},\"selected\":{\"id\":\"2620\",\"type\":\"Selection\"},\"selection_policy\":{\"id\":\"2619\",\"type\":\"UnionRenderers\"}},\"id\":\"2576\",\"type\":\"ColumnDataSource\"},{\"attributes\":{},\"id\":\"2530\",\"type\":\"BasicTicker\"},{\"attributes\":{\"fill_color\":{\"value\":\"navy\"},\"line_color\":{\"value\":\"navy\"},\"size\":{\"units\":\"screen\",\"value\":5},\"x\":{\"field\":\"x\"},\"y\":{\"field\":\"y\"}},\"id\":\"2563\",\"type\":\"Circle\"},{\"attributes\":{\"source\":{\"id\":\"2581\",\"type\":\"ColumnDataSource\"}},\"id\":\"2585\",\"type\":\"CDSView\"},{\"attributes\":{\"dimension\":1,\"plot\":{\"id\":\"2514\",\"subtype\":\"Figure\",\"type\":\"Plot\"},\"ticker\":{\"id\":\"2530\",\"type\":\"BasicTicker\"}},\"id\":\"2533\",\"type\":\"Grid\"},{\"attributes\":{\"label\":{\"value\":\"Male\"},\"renderers\":[{\"id\":\"2552\",\"type\":\"GlyphRenderer\"}]},\"id\":\"2561\",\"type\":\"LegendItem\"},{\"attributes\":{\"fill_alpha\":{\"value\":0.1},\"fill_color\":{\"value\":\"#1f77b4\"},\"line_alpha\":{\"value\":0.1},\"line_color\":{\"value\":\"#1f77b4\"},\"size\":{\"units\":\"screen\",\"value\":5},\"x\":{\"field\":\"x\"},\"y\":{\"field\":\"y\"}},\"id\":\"2564\",\"type\":\"Circle\"},{\"attributes\":{\"fill_alpha\":{\"value\":0.1},\"fill_color\":{\"value\":\"#1f77b4\"},\"line_alpha\":{\"value\":0.1},\"line_color\":{\"value\":\"#1f77b4\"},\"size\":{\"units\":\"screen\",\"value\":5},\"x\":{\"field\":\"x\"},\"y\":{\"field\":\"y\"}},\"id\":\"2551\",\"type\":\"Circle\"},{\"attributes\":{\"data_source\":{\"id\":\"2562\",\"type\":\"ColumnDataSource\"},\"glyph\":{\"id\":\"2563\",\"type\":\"Circle\"},\"hover_glyph\":null,\"muted_glyph\":null,\"nonselection_glyph\":{\"id\":\"2564\",\"type\":\"Circle\"},\"selection_glyph\":null,\"view\":{\"id\":\"2566\",\"type\":\"CDSView\"}},\"id\":\"2565\",\"type\":\"GlyphRenderer\"},{\"attributes\":{},\"id\":\"2619\",\"type\":\"UnionRenderers\"},{\"attributes\":{},\"id\":\"2620\",\"type\":\"Selection\"},{\"attributes\":{\"source\":{\"id\":\"2562\",\"type\":\"ColumnDataSource\"}},\"id\":\"2566\",\"type\":\"CDSView\"},{\"attributes\":{\"fill_color\":{\"value\":\"yellow\"},\"line_color\":{\"value\":\"yellow\"},\"size\":{\"units\":\"screen\",\"value\":5},\"x\":{\"field\":\"x\"},\"y\":{\"field\":\"y\"}},\"id\":\"2550\",\"type\":\"Circle\"},{\"attributes\":{\"active_drag\":\"auto\",\"active_inspect\":\"auto\",\"active_multi\":null,\"active_scroll\":\"auto\",\"active_tap\":\"auto\",\"tools\":[{\"id\":\"2534\",\"type\":\"PanTool\"},{\"id\":\"2535\",\"type\":\"WheelZoomTool\"},{\"id\":\"2536\",\"type\":\"BoxZoomTool\"},{\"id\":\"2537\",\"type\":\"SaveTool\"},{\"id\":\"2538\",\"type\":\"ResetTool\"},{\"id\":\"2539\",\"type\":\"HelpTool\"}]},\"id\":\"2540\",\"type\":\"Toolbar\"},{\"attributes\":{},\"id\":\"2572\",\"type\":\"UnionRenderers\"},{\"attributes\":{},\"id\":\"2621\",\"type\":\"UnionRenderers\"},{\"attributes\":{},\"id\":\"2534\",\"type\":\"PanTool\"},{\"attributes\":{},\"id\":\"2622\",\"type\":\"Selection\"},{\"attributes\":{},\"id\":\"2573\",\"type\":\"Selection\"},{\"attributes\":{},\"id\":\"2535\",\"type\":\"WheelZoomTool\"},{\"attributes\":{\"label\":{\"value\":\"Female\"},\"renderers\":[{\"id\":\"2565\",\"type\":\"GlyphRenderer\"}]},\"id\":\"2575\",\"type\":\"LegendItem\"},{\"attributes\":{\"overlay\":{\"id\":\"2542\",\"type\":\"BoxAnnotation\"}},\"id\":\"2536\",\"type\":\"BoxZoomTool\"},{\"attributes\":{\"callback\":null},\"id\":\"2518\",\"type\":\"DataRange1d\"},{\"attributes\":{\"callback\":null,\"data\":{},\"selected\":{\"id\":\"2622\",\"type\":\"Selection\"},\"selection_policy\":{\"id\":\"2621\",\"type\":\"UnionRenderers\"}},\"id\":\"2581\",\"type\":\"ColumnDataSource\"},{\"attributes\":{},\"id\":\"2537\",\"type\":\"SaveTool\"},{\"attributes\":{\"callback\":null},\"id\":\"2516\",\"type\":\"DataRange1d\"},{\"attributes\":{\"line_color\":\"darkorange\",\"line_width\":2,\"x\":{\"field\":\"x\"},\"y\":{\"field\":\"y\"}},\"id\":\"2577\",\"type\":\"Line\"},{\"attributes\":{},\"id\":\"2538\",\"type\":\"ResetTool\"},{\"attributes\":{\"line_alpha\":0.1,\"line_color\":\"#1f77b4\",\"line_width\":2,\"x\":{\"field\":\"x\"},\"y\":{\"field\":\"y\"}},\"id\":\"2578\",\"type\":\"Line\"},{\"attributes\":{},\"id\":\"2539\",\"type\":\"HelpTool\"},{\"attributes\":{\"plot\":null,\"text\":\" Disney Demography Institute Survey\"},\"id\":\"2513\",\"type\":\"Title\"},{\"attributes\":{\"data_source\":{\"id\":\"2576\",\"type\":\"ColumnDataSource\"},\"glyph\":{\"id\":\"2577\",\"type\":\"Line\"},\"hover_glyph\":null,\"muted_glyph\":null,\"nonselection_glyph\":{\"id\":\"2578\",\"type\":\"Line\"},\"selection_glyph\":null,\"view\":{\"id\":\"2580\",\"type\":\"CDSView\"}},\"id\":\"2579\",\"type\":\"GlyphRenderer\"}],\"root_ids\":[\"2514\"]},\"title\":\"Bokeh Application\",\"version\":\"1.0.1\"}};\n",
       "  var render_items = [{\"docid\":\"a739f40d-69c6-4bfc-97dd-3b76000be2c2\",\"roots\":{\"2514\":\"085c1894-10d1-42a7-a77e-004243d5ad71\"}}];\n",
       "  root.Bokeh.embed.embed_items_notebook(docs_json, render_items);\n",
       "\n",
       "  }\n",
       "  if (root.Bokeh !== undefined) {\n",
       "    embed_document(root);\n",
       "  } else {\n",
       "    var attempts = 0;\n",
       "    var timer = setInterval(function(root) {\n",
       "      if (root.Bokeh !== undefined) {\n",
       "        embed_document(root);\n",
       "        clearInterval(timer);\n",
       "      }\n",
       "      attempts++;\n",
       "      if (attempts > 100) {\n",
       "        console.log(\"Bokeh: ERROR: Unable to run BokehJS code because BokehJS library is missing\");\n",
       "        clearInterval(timer);\n",
       "      }\n",
       "    }, 10, root)\n",
       "  }\n",
       "})(window);"
      ],
      "application/vnd.bokehjs_exec.v0+json": ""
     },
     "metadata": {
      "application/vnd.bokehjs_exec.v0+json": {
       "id": "2514"
      }
     },
     "output_type": "display_data"
    }
   ],
   "source": [
    "p = figure(title = \" Disney Demography Institute Survey\", plot_width=600, x_axis_label='Height (cm)', y_axis_label = 'Weight (kg)')\n",
    "p.circle(m_height, m_weight, size=5, color=\"yellow\", alpha=1,legend=\"Male\")\n",
    "p.circle(f_height, f_weight, size=5, color=\"navy\", alpha=1,legend=\"Female\")\n",
    "p.line([171,171], [40,100], line_width=2,color= \"darkorange\")\n",
    "p.circle(181, 80,  size=5, color=\"red\")\n",
    "show(p)"
   ]
  },
  {
   "cell_type": "markdown",
   "metadata": {},
   "source": [
    "(f)  Draw the line (once again, you don’t need to calculate it) for which you think that it best separatesmale and female citizens"
   ]
  },
  {
   "cell_type": "code",
   "execution_count": 23,
   "metadata": {},
   "outputs": [
    {
     "data": {
      "text/html": [
       "\n",
       "\n",
       "\n",
       "\n",
       "\n",
       "\n",
       "  <div class=\"bk-root\" id=\"1a6789b3-24d8-4ae9-bc18-08db810bd297\"></div>\n"
      ]
     },
     "metadata": {},
     "output_type": "display_data"
    },
    {
     "data": {
      "application/javascript": [
       "(function(root) {\n",
       "  function embed_document(root) {\n",
       "    \n",
       "  var docs_json = {\"058eba37-8b2d-4efc-899c-3f0043017a4b\":{\"roots\":{\"references\":[{\"attributes\":{\"below\":[{\"id\":\"2719\",\"type\":\"LinearAxis\"}],\"left\":[{\"id\":\"2724\",\"type\":\"LinearAxis\"}],\"renderers\":[{\"id\":\"2719\",\"type\":\"LinearAxis\"},{\"id\":\"2723\",\"type\":\"Grid\"},{\"id\":\"2724\",\"type\":\"LinearAxis\"},{\"id\":\"2728\",\"type\":\"Grid\"},{\"id\":\"2737\",\"type\":\"BoxAnnotation\"},{\"id\":\"2755\",\"type\":\"Legend\"},{\"id\":\"2747\",\"type\":\"GlyphRenderer\"},{\"id\":\"2760\",\"type\":\"GlyphRenderer\"},{\"id\":\"2774\",\"type\":\"GlyphRenderer\"}],\"title\":{\"id\":\"2708\",\"type\":\"Title\"},\"toolbar\":{\"id\":\"2735\",\"type\":\"Toolbar\"},\"x_range\":{\"id\":\"2711\",\"type\":\"DataRange1d\"},\"x_scale\":{\"id\":\"2715\",\"type\":\"LinearScale\"},\"y_range\":{\"id\":\"2713\",\"type\":\"DataRange1d\"},\"y_scale\":{\"id\":\"2717\",\"type\":\"LinearScale\"}},\"id\":\"2709\",\"subtype\":\"Figure\",\"type\":\"Plot\"},{\"attributes\":{\"fill_color\":{\"value\":\"navy\"},\"line_color\":{\"value\":\"navy\"},\"size\":{\"units\":\"screen\",\"value\":5},\"x\":{\"field\":\"x\"},\"y\":{\"field\":\"y\"}},\"id\":\"2758\",\"type\":\"Circle\"},{\"attributes\":{},\"id\":\"2730\",\"type\":\"WheelZoomTool\"},{\"attributes\":{\"fill_alpha\":{\"value\":0.1},\"fill_color\":{\"value\":\"#1f77b4\"},\"line_alpha\":{\"value\":0.1},\"line_color\":{\"value\":\"#1f77b4\"},\"size\":{\"units\":\"screen\",\"value\":5},\"x\":{\"field\":\"x\"},\"y\":{\"field\":\"y\"}},\"id\":\"2759\",\"type\":\"Circle\"},{\"attributes\":{\"callback\":null},\"id\":\"2711\",\"type\":\"DataRange1d\"},{\"attributes\":{\"data_source\":{\"id\":\"2757\",\"type\":\"ColumnDataSource\"},\"glyph\":{\"id\":\"2758\",\"type\":\"Circle\"},\"hover_glyph\":null,\"muted_glyph\":null,\"nonselection_glyph\":{\"id\":\"2759\",\"type\":\"Circle\"},\"selection_glyph\":null,\"view\":{\"id\":\"2761\",\"type\":\"CDSView\"}},\"id\":\"2760\",\"type\":\"GlyphRenderer\"},{\"attributes\":{},\"id\":\"2732\",\"type\":\"SaveTool\"},{\"attributes\":{},\"id\":\"2733\",\"type\":\"ResetTool\"},{\"attributes\":{\"callback\":null,\"data\":{\"x\":{\"__ndarray__\":\"yxluW3QJZUCm9cRd0UZlQIQNL8OPFWVAvqwh/19QZUDR//B0/cVkQOgmtyW06WRACfaDw1/3ZECZlkDdmvpkQLeUza94HmVAxPCTNXiBZEAEqMVCxNRkQLKaTM2yGGVAecFHOWfBZEAVhm7Kd/FkQGIbKtiHXmVAyiNiwIBsZUCe3mOtJtlkQJn3YUUG02RAlMUZoP7FZEBgBp6cIJplQDvJWDAX5WRA0FgUl9rHZECO3ZBDlyhlQDOK/n/1JGVAFRmS2VjUZEBJk89kNiplQN2u/jtZNGVASd3wpYw6ZUDU784agN5kQE3mSuE+A2VA9QIaNCUNZUCWwYJA7StlQMsvc6ivDmVAGdaGQV/7ZEC2OswkSyNlQADrOeYQ7GRAlhh73zsiZUBzx1IMkFFlQEb0Hp3762RAh3XX2AQZZUAEcvt4m4xkQP/iGNAc6WRAKwnBQd31ZEBNQE0DCJxkQJACBEQkQmVAnRx5NLsWZUAh15V8puNkQJkrfilaHmVAE31Wng0mZUBTFfmZ8pdkQJ4OGzSO+WRAEHYRm912ZUDnzR2fiiBlQEpVU4RUoGRALccUqvg0ZUDr0J84N0FlQBWGYNreY2RA8dF9nSwjZUArB3b7zNBkQOV95t5Du2RALK9uFq5RZUAkiyuaDUJlQLu142rjKGVA9GS/C8cQZUDkTJZ9MCFlQLJ1ARM0KmVAEXupTK/XZED6JT5NwapkQHdX2ET97mRATYGQPkc3ZUAFKl6P7iplQERtBFtY2WRAm4wLrVs5ZUBnLBKKv+pkQF5dr8+EdmVAzlam7y/vZEDcAVW1SABlQH6BsGrpVWVACKImqxOHZEDQOpk1UtpkQN+NzAQPAmVAxRf0fNLtZEC3sn362SRlQPx5w9sYs2RAWLEcHbgKZUArawLKhuRkQEBauMiq52RAWuPq2bFEZUDxy0lcP/dkQPdst95UlWRA8OlKAdJRZUAnPlE24PBkQPyYwoO2B2VA4MyND4KhZEDgvNdyzEdlQE6LCxWaOmVA9hbuW2azZEADrVoatLRkQKd2pgcjZ2VAqsoO0zjPZECatPjKDsFkQB8mPaNF+GRAJfEYGYb2ZEC/vduPq8RkQEuw9ZPmMmVAuJu4Zwz6ZEC/AVMergtlQFTfcur33WRANDsofkF5ZUBRbqRJdtNkQNm3HY/yEWVA\",\"dtype\":\"float64\",\"shape\":[111]},\"y\":{\"__ndarray__\":\"mHN86UOxS0DE9MZV0dlPQFDw8ORiDUpAfxDL3Or5SkDicoHo2jhOQPXwC/Y4+UpACe+kWRMKTkDZpqU1CqxKQM0iOHtGqE9AFr+ZXAJNUkDQOFnsx9VOQED1qJJ1XktAwEYiyhErT0AOZCDwCpxNQLT2wa96ok1A5fGqlnIkT0BXZFcEXEVPQHCEr0+Sd1BA+nEokrY9S0CNLJfSKhtRQPO1reiyhUxA2tEO/lVoUECZNC2HK9RKQByQfJBzLE5AngAJQQz3TEBPHr75FQJQQFNNNvwPIE1AwW9TbeNYSkBTuBBQn0pMQL8HrWHRcUlAqNcYYg1aUkAz3Czi3XVQQGkvR4ruek9AV8VMU+4IUUAqzQxugUFTQMlmhHqF+UlA1XpFHhJsSUDC5oLIr8lOQBigzlcbMVBAK9sZiAHdTECkdunu5LxHQGFHuuVQ1lNAc8fnynL/SUDgEfWEIrpJQJcbx7dVzlFANkRkgiY6S0DNeQwlUFpMQIzrqvQHFlJAyZKA9mVlTUC6GB4VXLdLQA3eQaJw5k9ANHAPllICTUDZ7CLfZ0ZQQJw8NJM4OUpAMSiYAGvPTUDX5CkQsEBQQON8hxWzqk5A5gz+yhOtTEDNOOZrqOpNQI45LLoiA1BAeCrU493sTkBZPWOc40dQQMi9j/LyTk5A8X1XGeb8TUCnGKB1O0VFQKGEi1VZwk5AsYCnnjm5T0Dg9wNdMPpPQHYSEJM7eFBAoS+COmxnTUBOTyjtm3hMQGCBbwY3w1JAqeoHMkqGUUBALJXatr1LQD5rMvA/509At4/hbPl9UUBcYzx5ftRKQKKuNYTDzE9AJIUyoCHbTkD14rv/j0NLQJ9PuXDM1k1Azzi31/j+T0BP0L2WY+dOQOzORJc1OktAXXFlxNx0UEDcoS49XNtOQGNhGSTyX1FA9pMn/pEFT0CZd4xs3P9OQJg3A4kpdUhA9hhEv09hUUAKraPxw01NQNF1ew5QQ1BAgmSW3vT0S0C0+DbqxGNRQLifT+P8dU5Ag2q9EYpTUEDpPIwAjd1MQD3VsT4zClBAqIX+d1bXTkDuxq01TgdRQKwFpxZlQFFA9fJmhzGCSkCp7cAEV3ZNQComjf/EllNA7ynmJi9oUUDkvfy7nFxQQJCKg9c7wEtAO43zPrbhTkDnR6cmdxFQQGFru/K+sUtA\",\"dtype\":\"float64\",\"shape\":[111]}},\"selected\":{\"id\":\"2768\",\"type\":\"Selection\"},\"selection_policy\":{\"id\":\"2767\",\"type\":\"UnionRenderers\"}},\"id\":\"2744\",\"type\":\"ColumnDataSource\"},{\"attributes\":{\"source\":{\"id\":\"2757\",\"type\":\"ColumnDataSource\"}},\"id\":\"2761\",\"type\":\"CDSView\"},{\"attributes\":{},\"id\":\"2734\",\"type\":\"HelpTool\"},{\"attributes\":{},\"id\":\"2768\",\"type\":\"Selection\"},{\"attributes\":{\"data_source\":{\"id\":\"2744\",\"type\":\"ColumnDataSource\"},\"glyph\":{\"id\":\"2745\",\"type\":\"Circle\"},\"hover_glyph\":null,\"muted_glyph\":null,\"nonselection_glyph\":{\"id\":\"2746\",\"type\":\"Circle\"},\"selection_glyph\":null,\"view\":{\"id\":\"2748\",\"type\":\"CDSView\"}},\"id\":\"2747\",\"type\":\"GlyphRenderer\"},{\"attributes\":{\"bottom_units\":\"screen\",\"fill_alpha\":{\"value\":0.5},\"fill_color\":{\"value\":\"lightgrey\"},\"left_units\":\"screen\",\"level\":\"overlay\",\"line_alpha\":{\"value\":1.0},\"line_color\":{\"value\":\"black\"},\"line_dash\":[4,4],\"line_width\":{\"value\":2},\"plot\":null,\"render_mode\":\"css\",\"right_units\":\"screen\",\"top_units\":\"screen\"},\"id\":\"2737\",\"type\":\"BoxAnnotation\"},{\"attributes\":{},\"id\":\"2720\",\"type\":\"BasicTicker\"},{\"attributes\":{\"label\":{\"value\":\"Female\"},\"renderers\":[{\"id\":\"2760\",\"type\":\"GlyphRenderer\"}]},\"id\":\"2770\",\"type\":\"LegendItem\"},{\"attributes\":{\"callback\":null},\"id\":\"2713\",\"type\":\"DataRange1d\"},{\"attributes\":{},\"id\":\"2729\",\"type\":\"PanTool\"},{\"attributes\":{\"active_drag\":\"auto\",\"active_inspect\":\"auto\",\"active_multi\":null,\"active_scroll\":\"auto\",\"active_tap\":\"auto\",\"tools\":[{\"id\":\"2729\",\"type\":\"PanTool\"},{\"id\":\"2730\",\"type\":\"WheelZoomTool\"},{\"id\":\"2731\",\"type\":\"BoxZoomTool\"},{\"id\":\"2732\",\"type\":\"SaveTool\"},{\"id\":\"2733\",\"type\":\"ResetTool\"},{\"id\":\"2734\",\"type\":\"HelpTool\"}]},\"id\":\"2735\",\"type\":\"Toolbar\"},{\"attributes\":{\"fill_color\":{\"value\":\"yellow\"},\"line_color\":{\"value\":\"yellow\"},\"size\":{\"units\":\"screen\",\"value\":5},\"x\":{\"field\":\"x\"},\"y\":{\"field\":\"y\"}},\"id\":\"2745\",\"type\":\"Circle\"},{\"attributes\":{\"line_color\":\"#1f77b4\",\"line_width\":2,\"x\":{\"field\":\"x\"},\"y\":{\"field\":\"y\"}},\"id\":\"2772\",\"type\":\"Line\"},{\"attributes\":{\"fill_alpha\":{\"value\":0.1},\"fill_color\":{\"value\":\"#1f77b4\"},\"line_alpha\":{\"value\":0.1},\"line_color\":{\"value\":\"#1f77b4\"},\"size\":{\"units\":\"screen\",\"value\":5},\"x\":{\"field\":\"x\"},\"y\":{\"field\":\"y\"}},\"id\":\"2746\",\"type\":\"Circle\"},{\"attributes\":{\"line_alpha\":0.1,\"line_color\":\"#1f77b4\",\"line_width\":2,\"x\":{\"field\":\"x\"},\"y\":{\"field\":\"y\"}},\"id\":\"2773\",\"type\":\"Line\"},{\"attributes\":{\"source\":{\"id\":\"2771\",\"type\":\"ColumnDataSource\"}},\"id\":\"2775\",\"type\":\"CDSView\"},{\"attributes\":{},\"id\":\"2753\",\"type\":\"BasicTickFormatter\"},{\"attributes\":{\"data_source\":{\"id\":\"2771\",\"type\":\"ColumnDataSource\"},\"glyph\":{\"id\":\"2772\",\"type\":\"Line\"},\"hover_glyph\":null,\"muted_glyph\":null,\"nonselection_glyph\":{\"id\":\"2773\",\"type\":\"Line\"},\"selection_glyph\":null,\"view\":{\"id\":\"2775\",\"type\":\"CDSView\"}},\"id\":\"2774\",\"type\":\"GlyphRenderer\"},{\"attributes\":{},\"id\":\"2725\",\"type\":\"BasicTicker\"},{\"attributes\":{\"callback\":null,\"data\":{\"x\":{\"__ndarray__\":\"SioWCu21ZUAIoO3S+9BlQL4NXTyf1WVA9Kh8JMxsZUCPLaNhJjRmQPDdhvVOsGVA6CLhcQCZZUDtrdKF9KBlQD9DDN2k32VAto0otfUNZkCjc7uIY5dlQJhSXUbwy2VAWATh+ETqZEDlmol/559lQGXgAQFz9mVAxThYYGyPZUA5y+STaOplQAtJSfM8zmVAbBWazBfgZUBzKyQEOKxlQCY/NnC+nGVAp/B+5dFrZUAM7vTkp8VlQGQk2h3CjmVAsCJvizACZkCn+bcW7gZmQMTwDe8ItWVAWrNhaLx7ZUBnl4PTiZJlQEcheGjQZGVA8ZoyW8asZUBnk1cSW4dlQNzqYi8XJmZAx3gKfehcZUAKTPDjKAFmQJn0xxzRX2VABmqrgJKqZUDI3m3lYwdmQCwpYV7wz2VAY9q2Bz/YZUApFGFtCyRlQGVqCQo3rmVAezy4IYbQZUDVLHAgn8VlQBMVHWVQqGVA8pPG2UvkZUBPgFviVMJlQCzZjeNc/GVAvSm+gxaDZUDpgoGNdo9lQC9oTlDClWVACQCzCFYJZkDWdBCV4rRlQKskEdJUrGVAEdq5xDhzZUAgzXp6mRNmQKXNTqRhn2VAOMRLpPLjZUDzuB2SX55lQPe1eXgmfWVAiHss78S7ZUAU0mCYa4NlQJ1Zrry8qGVA/1iV/1iQZUCdhLfnCZFlQLIBhqxCmmVAmRfg8q/AZUCkTBj88ONlQN93SUc/5WVAPk4h9jvSZUD3X2l1FYNlQFQEa6EQuGVA9k0xeZT5ZUB29405t95lQPvX8UmZFWVAx4Gy9proZUCiBp89G9BlQBxbCba7gmVAzvK2aD2uZUCbsaLljNdlQL/cO2dZj2VAuRVHPTeKZUCACi2SY9plQGjCLQb/n2VAAwtV1LufZEBgBHIaZQZmQG7I2Zx612VAqlshWnv5ZUADf042vANmQJvTgmKcQ2ZAvbi428feZEBV50c5nvhlQAH9gZGidWVA+4FhhoMjZkCZv/fhujdmQNpgA9NSvmRAZsbc1GivZUBeVf7t5xRlQBzEEuqfEmZAgV8DrAapZUB91TK61oVlQAFPOUgIjmVAc2+e2CwAZkCMdFyf9wdmQHdEWdCln2VAbpjMZDePZUCEi1d9ypZlQCOxWB/V7GVAwk5C+ZCQZUDi4qyWh7llQIKXALXcPWZA4ebb/7PVZUC8oKXUzzFlQH2JyBrFDGZArqPKz9ISZUBQl7FLPhpmQEZ/98jUBGZAG3as5c/FZUByP90FIo5lQP6JE6mIJGZAUhTIorn2ZEA=\",\"dtype\":\"float64\",\"shape\":[121]},\"y\":{\"__ndarray__\":\"1BlVqR1KUUC7QwpOrqxRQMizoZF9d1RACfY4dzlaVEAzxGkCFABQQFsA8MxlU1BAYc8y9ZF2UUDiOy7jlQ1RQLcs8ZIpOVBAuSaZBC2PUkC5PgXOIj5SQKq2RA0otE9AK5AgZYJmUEANLdlAzydRQFcP2A064FJAUiXnE7B0UEBzmKvblJBTQOnrAAnV8VBANSPRbmZKUEDOM6YB/ONPQAvTnPvjjFFAzPVfuOysT0BDNXcwyY9JQOaphE9k/U5AXZ8JLPEHUUCYTCZBPVVNQGkJDF557VBAJqirnyk3U0DELWV0rSpRQBwis7BTVVBADPQpVBTsUEDnyXT/2H1NQLB1cGh0EFBABxUkCnYTUkCjprLyhNROQNdd1KYGWFNACnz7jGC0UkAewqApWx5UQN0x8g+rYlBAxMc0F6mqUkApmhCSCdBNQDllJVGMXVJAbOsNGPGDT0CkKpOgUgJSQBWSFw+zLlNAGV4z4qWlUkAqBHZlLC9RQNed5l4PYVJAXRAi/cQlU0CyOTmnICVRQNL6gUf8xExA4R/rCebVVEB3Mj6LCJxRQA0qamhUb1BAmYRqtXBFUUA0sqTtC0xPQPe4GWDRa1BA1ZSiwq22UECYWK479NJUQE3hQRstPVJAtpavZkzHUEA2jasG55hQQJyGQIaVR1JADosKN40UUEAe9hyc36dTQL+dAnksjFNAE4MrudWjUEAMCfV6DI9QQAqDIKf9Y1FAH+Jcx12fUUA6teHDfkZSQBQtF+JeXlNAetKr69uDUEC7TQ867PNNQHqLXq46/E5ADGwUKh1iUkBcJ0ivE9pQQKxrAnOHaVFAc7fvSSHWUEBk8fI4CalRQHt6PD614FJA3HBN5G1LUUAD44WtlQRVQMupnOD5z09ANxvK/4/LTkCLVCDxzSFQQC5yuOChcFBAOxsu0JnkUEC7tgIuEY9SQMNvmf15LVNARaAy21yMSUCG8E1xmMtSQPthJEt+k1FAIARvgvxIUEAwoBhu8lBRQKMCfzMcRFBAMVvgFq3rUUAvQ8te1blKQLT9qV8A/VRAl4++6fApVEBHssSnujVPQKnBNX747VBA+EpclzdPUUC1VKEWz+hLQFzwU/apRlJAaawIFv/YUkDmFk2jlyRTQLT6qDoryU9A9GiM807STUCV/kEJj/RSQLU880Ld51FAFV1AgHzkUEDKa/2biOlSQE1ACzUbwFFA6ShIetrOTEBMrJbJZqpUQE8JtEnYD1FAyqQF6ZnwVEBhEAkyEVdUQB920CVD31FAmwUF2itLT0A=\",\"dtype\":\"float64\",\"shape\":[121]}},\"selected\":{\"id\":\"2822\",\"type\":\"Selection\"},\"selection_policy\":{\"id\":\"2821\",\"type\":\"UnionRenderers\"}},\"id\":\"2757\",\"type\":\"ColumnDataSource\"},{\"attributes\":{},\"id\":\"2821\",\"type\":\"UnionRenderers\"},{\"attributes\":{\"dimension\":1,\"plot\":{\"id\":\"2709\",\"subtype\":\"Figure\",\"type\":\"Plot\"},\"ticker\":{\"id\":\"2725\",\"type\":\"BasicTicker\"}},\"id\":\"2728\",\"type\":\"Grid\"},{\"attributes\":{\"plot\":null,\"text\":\" Disney Demography Institute Survey\"},\"id\":\"2708\",\"type\":\"Title\"},{\"attributes\":{\"label\":{\"value\":\"Male\"},\"renderers\":[{\"id\":\"2747\",\"type\":\"GlyphRenderer\"}]},\"id\":\"2756\",\"type\":\"LegendItem\"},{\"attributes\":{},\"id\":\"2822\",\"type\":\"Selection\"},{\"attributes\":{\"axis_label\":\"Weight (kg)\",\"formatter\":{\"id\":\"2753\",\"type\":\"BasicTickFormatter\"},\"plot\":{\"id\":\"2709\",\"subtype\":\"Figure\",\"type\":\"Plot\"},\"ticker\":{\"id\":\"2725\",\"type\":\"BasicTicker\"}},\"id\":\"2724\",\"type\":\"LinearAxis\"},{\"attributes\":{},\"id\":\"2715\",\"type\":\"LinearScale\"},{\"attributes\":{\"source\":{\"id\":\"2744\",\"type\":\"ColumnDataSource\"}},\"id\":\"2748\",\"type\":\"CDSView\"},{\"attributes\":{},\"id\":\"2717\",\"type\":\"LinearScale\"},{\"attributes\":{},\"id\":\"2823\",\"type\":\"UnionRenderers\"},{\"attributes\":{\"plot\":{\"id\":\"2709\",\"subtype\":\"Figure\",\"type\":\"Plot\"},\"ticker\":{\"id\":\"2720\",\"type\":\"BasicTicker\"}},\"id\":\"2723\",\"type\":\"Grid\"},{\"attributes\":{},\"id\":\"2767\",\"type\":\"UnionRenderers\"},{\"attributes\":{},\"id\":\"2824\",\"type\":\"Selection\"},{\"attributes\":{\"axis_label\":\"Height (cm)\",\"formatter\":{\"id\":\"2751\",\"type\":\"BasicTickFormatter\"},\"plot\":{\"id\":\"2709\",\"subtype\":\"Figure\",\"type\":\"Plot\"},\"ticker\":{\"id\":\"2720\",\"type\":\"BasicTicker\"}},\"id\":\"2719\",\"type\":\"LinearAxis\"},{\"attributes\":{},\"id\":\"2751\",\"type\":\"BasicTickFormatter\"},{\"attributes\":{\"callback\":null,\"data\":{\"x\":[167,175],\"y\":[100,40]},\"selected\":{\"id\":\"2824\",\"type\":\"Selection\"},\"selection_policy\":{\"id\":\"2823\",\"type\":\"UnionRenderers\"}},\"id\":\"2771\",\"type\":\"ColumnDataSource\"},{\"attributes\":{\"overlay\":{\"id\":\"2737\",\"type\":\"BoxAnnotation\"}},\"id\":\"2731\",\"type\":\"BoxZoomTool\"},{\"attributes\":{\"items\":[{\"id\":\"2756\",\"type\":\"LegendItem\"},{\"id\":\"2770\",\"type\":\"LegendItem\"}],\"plot\":{\"id\":\"2709\",\"subtype\":\"Figure\",\"type\":\"Plot\"}},\"id\":\"2755\",\"type\":\"Legend\"}],\"root_ids\":[\"2709\"]},\"title\":\"Bokeh Application\",\"version\":\"1.0.1\"}};\n",
       "  var render_items = [{\"docid\":\"058eba37-8b2d-4efc-899c-3f0043017a4b\",\"roots\":{\"2709\":\"1a6789b3-24d8-4ae9-bc18-08db810bd297\"}}];\n",
       "  root.Bokeh.embed.embed_items_notebook(docs_json, render_items);\n",
       "\n",
       "  }\n",
       "  if (root.Bokeh !== undefined) {\n",
       "    embed_document(root);\n",
       "  } else {\n",
       "    var attempts = 0;\n",
       "    var timer = setInterval(function(root) {\n",
       "      if (root.Bokeh !== undefined) {\n",
       "        embed_document(root);\n",
       "        clearInterval(timer);\n",
       "      }\n",
       "      attempts++;\n",
       "      if (attempts > 100) {\n",
       "        console.log(\"Bokeh: ERROR: Unable to run BokehJS code because BokehJS library is missing\");\n",
       "        clearInterval(timer);\n",
       "      }\n",
       "    }, 10, root)\n",
       "  }\n",
       "})(window);"
      ],
      "application/vnd.bokehjs_exec.v0+json": ""
     },
     "metadata": {
      "application/vnd.bokehjs_exec.v0+json": {
       "id": "2709"
      }
     },
     "output_type": "display_data"
    }
   ],
   "source": [
    "p = figure(title = \" Disney Demography Institute Survey\", plot_width=600, x_axis_label='Height (cm)', y_axis_label = 'Weight (kg)')\n",
    "p.circle(m_height, m_weight, size=5, color=\"yellow\", alpha=1, legend=\"Male\")\n",
    "p.circle(f_height, f_weight, size=5, color=\"navy\", alpha=1, legend=\"Female\")\n",
    "p.line([167,175], [100,40], line_width=2)\n",
    "show(p)"
   ]
  },
  {
   "cell_type": "markdown",
   "metadata": {},
   "source": [
    "(g)  Donald Duck has a lot of cousins.  One of them weights 52kg and is 1.79cm tall.  How would youclassify his cousin?  Would you classify differently if you use the (b) or (d) lines?\n",
    "\n",
    "Answers: With the best separator, we would classify the cousins with 52kg and 179cm tall as female. We would classify them differently according to b) and d) lines.\n",
    "According to b) we would classify it as male, and by d) we would classify as female. \n"
   ]
  },
  {
   "cell_type": "code",
   "execution_count": 8,
   "metadata": {},
   "outputs": [],
   "source": [
    "p = figure(title = \" Disney Demography Institute Survey\", plot_width=600, x_axis_label='Height (cm)', y_axis_label = 'Weight (kg)')\n",
    "p.circle(m_height, m_weight, size=5, color=\"yellow\", alpha=1, legend=\"Male\")\n",
    "p.circle(f_height, f_weight, size=5, color=\"navy\", alpha=1, legend=\"Female\")\n",
    "p.line([160,180], [66,66], line_width=2,color= \"hotpink\")\n",
    "p.line([171,171], [40,100], line_width=2,color=\"darkorange\")\n",
    "p.line([167,175], [100,40], line_width=2)\n",
    "p.circle(179, 52,  size=5, color=\"red\")\n",
    "show(p)"
   ]
  },
  {
   "cell_type": "code",
   "execution_count": null,
   "metadata": {},
   "outputs": [],
   "source": []
  }
 ],
 "metadata": {
  "kernelspec": {
   "display_name": "Python 3",
   "language": "python",
   "name": "python3"
  },
  "language_info": {
   "codemirror_mode": {
    "name": "ipython",
    "version": 3
   },
   "file_extension": ".py",
   "mimetype": "text/x-python",
   "name": "python",
   "nbconvert_exporter": "python",
   "pygments_lexer": "ipython3",
   "version": "3.6.7"
  }
 },
 "nbformat": 4,
 "nbformat_minor": 2
}
